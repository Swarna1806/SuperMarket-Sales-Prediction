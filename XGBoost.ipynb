{
  "nbformat": 4,
  "nbformat_minor": 0,
  "metadata": {
    "colab": {
      "provenance": []
    },
    "kernelspec": {
      "name": "python3",
      "display_name": "Python 3"
    },
    "language_info": {
      "name": "python"
    }
  },
  "cells": [
    {
      "cell_type": "code",
      "execution_count": null,
      "metadata": {
        "id": "K5ZNaEam00A9"
      },
      "outputs": [],
      "source": [
        "import numpy as np\n",
        "import pandas as pd\n",
        "import seaborn as sns\n",
        "from sklearn.preprocessing import LabelEncoder\n",
        "from sklearn.model_selection import train_test_split\n",
        "from sklearn.metrics import mean_squared_error, r2_score\n",
        "import matplotlib.pyplot as plt\n",
        "from sklearn import metrics"
      ]
    },
    {
      "cell_type": "code",
      "source": [
        "df = pd.read_csv('/content/Train-Set.csv')"
      ],
      "metadata": {
        "id": "-u4quOQg1AwW"
      },
      "execution_count": null,
      "outputs": []
    },
    {
      "cell_type": "markdown",
      "source": [
        "#Preprocessing the data"
      ],
      "metadata": {
        "id": "3e5MASUQ1JEW"
      }
    },
    {
      "cell_type": "markdown",
      "source": [
        "# inspecting the data"
      ],
      "metadata": {
        "id": "Jbxv_OE51MER"
      }
    },
    {
      "cell_type": "code",
      "source": [
        "print(df.head())"
      ],
      "metadata": {
        "id": "b9857TiJ1NQ7",
        "colab": {
          "base_uri": "https://localhost:8080/"
        },
        "outputId": "a4bf2f94-3604-458f-a1cc-49ab8e0c8de1"
      },
      "execution_count": null,
      "outputs": [
        {
          "output_type": "stream",
          "name": "stdout",
          "text": [
            "  ProductID  Weight FatContent  ProductVisibility            ProductType  \\\n",
            "0     FDA15    9.30    Low Fat           0.016047                  Dairy   \n",
            "1     DRC01    5.92    Regular           0.019278            Soft Drinks   \n",
            "2     FDN15   17.50    Low Fat           0.016760                   Meat   \n",
            "3     FDX07   19.20    Regular           0.000000  Fruits and Vegetables   \n",
            "4     NCD19    8.93    Low Fat           0.000000              Household   \n",
            "\n",
            "        MRP OutletID  EstablishmentYear OutletSize LocationType  \\\n",
            "0  249.8092   OUT049               1999     Medium       Tier 1   \n",
            "1   48.2692   OUT018               2009     Medium       Tier 3   \n",
            "2  141.6180   OUT049               1999     Medium       Tier 1   \n",
            "3  182.0950   OUT010               1998        NaN       Tier 3   \n",
            "4   53.8614   OUT013               1987       High       Tier 3   \n",
            "\n",
            "          OutletType  OutletSales  \n",
            "0  Supermarket Type1    3735.1380  \n",
            "1  Supermarket Type2     443.4228  \n",
            "2  Supermarket Type1    2097.2700  \n",
            "3      Grocery Store     732.3800  \n",
            "4  Supermarket Type1     994.7052  \n"
          ]
        }
      ]
    },
    {
      "cell_type": "code",
      "source": [
        "print(df.info())\n",
        "print(df.describe())\n",
        "print(df.isnull().sum())"
      ],
      "metadata": {
        "id": "H_EaqP6Z1QW1",
        "colab": {
          "base_uri": "https://localhost:8080/"
        },
        "outputId": "2532e317-825f-44d3-c2fd-bb320c29b014"
      },
      "execution_count": null,
      "outputs": [
        {
          "output_type": "stream",
          "name": "stdout",
          "text": [
            "<class 'pandas.core.frame.DataFrame'>\n",
            "RangeIndex: 8523 entries, 0 to 8522\n",
            "Data columns (total 12 columns):\n",
            " #   Column             Non-Null Count  Dtype  \n",
            "---  ------             --------------  -----  \n",
            " 0   ProductID          8523 non-null   object \n",
            " 1   Weight             7060 non-null   float64\n",
            " 2   FatContent         8523 non-null   object \n",
            " 3   ProductVisibility  8523 non-null   float64\n",
            " 4   ProductType        8523 non-null   object \n",
            " 5   MRP                8523 non-null   float64\n",
            " 6   OutletID           8523 non-null   object \n",
            " 7   EstablishmentYear  8523 non-null   int64  \n",
            " 8   OutletSize         6113 non-null   object \n",
            " 9   LocationType       8523 non-null   object \n",
            " 10  OutletType         8523 non-null   object \n",
            " 11  OutletSales        8523 non-null   float64\n",
            "dtypes: float64(4), int64(1), object(7)\n",
            "memory usage: 799.2+ KB\n",
            "None\n",
            "            Weight  ProductVisibility          MRP  EstablishmentYear  \\\n",
            "count  7060.000000        8523.000000  8523.000000        8523.000000   \n",
            "mean     12.857645           0.066132   140.992782        1997.831867   \n",
            "std       4.643456           0.051598    62.275067           8.371760   \n",
            "min       4.555000           0.000000    31.290000        1985.000000   \n",
            "25%       8.773750           0.026989    93.826500        1987.000000   \n",
            "50%      12.600000           0.053931   143.012800        1999.000000   \n",
            "75%      16.850000           0.094585   185.643700        2004.000000   \n",
            "max      21.350000           0.328391   266.888400        2009.000000   \n",
            "\n",
            "        OutletSales  \n",
            "count   8523.000000  \n",
            "mean    2181.288914  \n",
            "std     1706.499616  \n",
            "min       33.290000  \n",
            "25%      834.247400  \n",
            "50%     1794.331000  \n",
            "75%     3101.296400  \n",
            "max    13086.964800  \n",
            "ProductID               0\n",
            "Weight               1463\n",
            "FatContent              0\n",
            "ProductVisibility       0\n",
            "ProductType             0\n",
            "MRP                     0\n",
            "OutletID                0\n",
            "EstablishmentYear       0\n",
            "OutletSize           2410\n",
            "LocationType            0\n",
            "OutletType              0\n",
            "OutletSales             0\n",
            "dtype: int64\n"
          ]
        }
      ]
    },
    {
      "cell_type": "markdown",
      "source": [
        "#dropping irrelevant columns\n",
        "#not considering ProductID, and OutletID"
      ],
      "metadata": {
        "id": "B9oJX7T21YAz"
      }
    },
    {
      "cell_type": "code",
      "source": [
        "df.drop(['ProductID', 'OutletID'], axis=1, inplace=True)"
      ],
      "metadata": {
        "id": "lyoei5xZ1ZP9"
      },
      "execution_count": null,
      "outputs": []
    },
    {
      "cell_type": "markdown",
      "source": [
        "#filling missing values"
      ],
      "metadata": {
        "id": "-GNlTLqH1eJH"
      }
    },
    {
      "cell_type": "markdown",
      "source": [
        "#for [WEIGHT]"
      ],
      "metadata": {
        "id": "fhq6Tg5s1fQQ"
      }
    },
    {
      "cell_type": "code",
      "source": [
        "print(df['Weight'].skew())"
      ],
      "metadata": {
        "id": "gvob_9Hc1iFm",
        "colab": {
          "base_uri": "https://localhost:8080/"
        },
        "outputId": "1c7cb2ee-ea8f-4fc3-8d46-6d9ba1e0f414"
      },
      "execution_count": null,
      "outputs": [
        {
          "output_type": "stream",
          "name": "stdout",
          "text": [
            "0.0824262091221237\n"
          ]
        }
      ]
    },
    {
      "cell_type": "markdown",
      "source": [
        "#approximately symmetric\n",
        "#finding if there are any outliers"
      ],
      "metadata": {
        "id": "YJndUrCo1lNj"
      }
    },
    {
      "cell_type": "code",
      "source": [
        "sns.boxplot(x=df['Weight'])\n",
        "plt.show()"
      ],
      "metadata": {
        "id": "48vD6J1g1oti",
        "colab": {
          "base_uri": "https://localhost:8080/",
          "height": 449
        },
        "outputId": "a7af25ca-d22c-4690-979d-bfc074d4dfa9"
      },
      "execution_count": null,
      "outputs": [
        {
          "output_type": "display_data",
          "data": {
            "text/plain": [
              "<Figure size 640x480 with 1 Axes>"
            ],
            "image/png": "[encoded data removed]"
          },
          "metadata": {}
        }
      ]
    },
    {
      "cell_type": "code",
      "source": [
        "df['Weight'] = df['Weight'].fillna(df['Weight'].mean())"
      ],
      "metadata": {
        "id": "f_Mw0ffJ1s5O"
      },
      "execution_count": null,
      "outputs": []
    },
    {
      "cell_type": "markdown",
      "source": [
        "#for [OutletSize]"
      ],
      "metadata": {
        "id": "ZKLBcAYs1t_3"
      }
    },
    {
      "cell_type": "markdown",
      "source": [
        "#filling missing values in OuletSize based on the OutletType"
      ],
      "metadata": {
        "id": "dtGT4yHo1wH5"
      }
    },
    {
      "cell_type": "code",
      "source": [
        "mode_of_Outlet_size = df.pivot_table(values='OutletSize', columns='OutletType', aggfunc=lambda x: x.mode()[0])\n",
        "print(mode_of_Outlet_size)"
      ],
      "metadata": {
        "id": "QQD-Ukra1yqS",
        "colab": {
          "base_uri": "https://localhost:8080/"
        },
        "outputId": "f4fac1ea-3905-41db-f946-d1d6868defe3"
      },
      "execution_count": null,
      "outputs": [
        {
          "output_type": "stream",
          "name": "stdout",
          "text": [
            "OutletType Grocery Store Supermarket Type1 Supermarket Type2 Supermarket Type3\n",
            "OutletSize         Small             Small            Medium            Medium\n"
          ]
        }
      ]
    },
    {
      "cell_type": "code",
      "source": [
        "miss_values = df['OutletSize'].isnull()\n",
        "df.loc[miss_values, 'OutletSize'] = df.loc[miss_values, 'OutletType'].apply(lambda x: mode_of_Outlet_size[x])"
      ],
      "metadata": {
        "id": "_aYgqWEw108O"
      },
      "execution_count": null,
      "outputs": []
    },
    {
      "cell_type": "code",
      "source": [
        "df.isnull().sum()"
      ],
      "metadata": {
        "id": "uDZRjYWV15FK",
        "colab": {
          "base_uri": "https://localhost:8080/",
          "height": 398
        },
        "outputId": "36f6aa2b-c454-4f5c-f075-0ae9319b65f2"
      },
      "execution_count": null,
      "outputs": [
        {
          "output_type": "execute_result",
          "data": {
            "text/plain": [
              "Weight               0\n",
              "FatContent           0\n",
              "ProductVisibility    0\n",
              "ProductType          0\n",
              "MRP                  0\n",
              "EstablishmentYear    0\n",
              "OutletSize           0\n",
              "LocationType         0\n",
              "OutletType           0\n",
              "OutletSales          0\n",
              "dtype: int64"
            ],
            "text/html": [
              "<div>\n",
              "<style scoped>\n",
              "    .dataframe tbody tr th:only-of-type {\n",
              "        vertical-align: middle;\n",
              "    }\n",
              "\n",
              "    .dataframe tbody tr th {\n",
              "        vertical-align: top;\n",
              "    }\n",
              "\n",
              "    .dataframe thead th {\n",
              "        text-align: right;\n",
              "    }\n",
              "</style>\n",
              "<table border=\"1\" class=\"dataframe\">\n",
              "  <thead>\n",
              "    <tr style=\"text-align: right;\">\n",
              "      <th></th>\n",
              "      <th>0</th>\n",
              "    </tr>\n",
              "  </thead>\n",
              "  <tbody>\n",
              "    <tr>\n",
              "      <th>Weight</th>\n",
              "      <td>0</td>\n",
              "    </tr>\n",
              "    <tr>\n",
              "      <th>FatContent</th>\n",
              "      <td>0</td>\n",
              "    </tr>\n",
              "    <tr>\n",
              "      <th>ProductVisibility</th>\n",
              "      <td>0</td>\n",
              "    </tr>\n",
              "    <tr>\n",
              "      <th>ProductType</th>\n",
              "      <td>0</td>\n",
              "    </tr>\n",
              "    <tr>\n",
              "      <th>MRP</th>\n",
              "      <td>0</td>\n",
              "    </tr>\n",
              "    <tr>\n",
              "      <th>EstablishmentYear</th>\n",
              "      <td>0</td>\n",
              "    </tr>\n",
              "    <tr>\n",
              "      <th>OutletSize</th>\n",
              "      <td>0</td>\n",
              "    </tr>\n",
              "    <tr>\n",
              "      <th>LocationType</th>\n",
              "      <td>0</td>\n",
              "    </tr>\n",
              "    <tr>\n",
              "      <th>OutletType</th>\n",
              "      <td>0</td>\n",
              "    </tr>\n",
              "    <tr>\n",
              "      <th>OutletSales</th>\n",
              "      <td>0</td>\n",
              "    </tr>\n",
              "  </tbody>\n",
              "</table>\n",
              "</div><br><label><b>dtype:</b> int64</label>"
            ]
          },
          "metadata": {},
          "execution_count": 145
        }
      ]
    },
    {
      "cell_type": "markdown",
      "source": [
        "### no missing values"
      ],
      "metadata": {
        "id": "xv2G7Ouz19LU"
      }
    },
    {
      "cell_type": "markdown",
      "source": [
        "### CHECKING FOR UNIQUE VALUES IN CATEGORICAL COLUMNS"
      ],
      "metadata": {
        "id": "nPlOvi0h1-WJ"
      }
    },
    {
      "cell_type": "code",
      "source": [
        "categorical_cols = ['FatContent', 'ProductType', 'OutletSize', 'LocationType', 'OutletType']\n",
        "\n",
        "for col in categorical_cols:\n",
        "    print(f\"{col} unique values:\")\n",
        "    print(df[col].unique())\n",
        "    print(\"-\" * 40)"
      ],
      "metadata": {
        "id": "SsJ8Tn4-2DfV",
        "colab": {
          "base_uri": "https://localhost:8080/"
        },
        "outputId": "8c54c208-3f05-4d77-8ee2-46c2a869fc10"
      },
      "execution_count": null,
      "outputs": [
        {
          "output_type": "stream",
          "name": "stdout",
          "text": [
            "FatContent unique values:\n",
            "['Low Fat' 'Regular' 'low fat' 'LF' 'reg']\n",
            "----------------------------------------\n",
            "ProductType unique values:\n",
            "['Dairy' 'Soft Drinks' 'Meat' 'Fruits and Vegetables' 'Household'\n",
            " 'Baking Goods' 'Snack Foods' 'Frozen Foods' 'Breakfast'\n",
            " 'Health and Hygiene' 'Hard Drinks' 'Canned' 'Breads' 'Starchy Foods'\n",
            " 'Others' 'Seafood']\n",
            "----------------------------------------\n",
            "OutletSize unique values:\n",
            "['Medium' 'Small' 'High']\n",
            "----------------------------------------\n",
            "LocationType unique values:\n",
            "['Tier 1' 'Tier 3' 'Tier 2']\n",
            "----------------------------------------\n",
            "OutletType unique values:\n",
            "['Supermarket Type1' 'Supermarket Type2' 'Grocery Store'\n",
            " 'Supermarket Type3']\n",
            "----------------------------------------\n"
          ]
        }
      ]
    },
    {
      "cell_type": "code",
      "source": [
        "df['FatContent'] = df['FatContent'].replace({\n",
        "    'low fat': 'Low Fat',\n",
        "    'LF': 'Low Fat',\n",
        "    'reg': 'Regular'\n",
        "})\n"
      ],
      "metadata": {
        "id": "GiWa3dLF2JmY"
      },
      "execution_count": null,
      "outputs": []
    },
    {
      "cell_type": "code",
      "source": [
        "print(df['FatContent'].unique())"
      ],
      "metadata": {
        "id": "TXXIivzT2L3Z",
        "colab": {
          "base_uri": "https://localhost:8080/"
        },
        "outputId": "50349baf-8d8b-4abe-ae20-ff0fec84bba4"
      },
      "execution_count": null,
      "outputs": [
        {
          "output_type": "stream",
          "name": "stdout",
          "text": [
            "['Low Fat' 'Regular']\n"
          ]
        }
      ]
    },
    {
      "cell_type": "markdown",
      "source": [
        "### LABEL ENCODING"
      ],
      "metadata": {
        "id": "Qf8kn1B-2Rgc"
      }
    },
    {
      "cell_type": "code",
      "source": [
        "df = pd.get_dummies(df, columns=[\n",
        "    'FatContent', 'ProductType', 'OutletSize',\n",
        "    'LocationType', 'OutletType'\n",
        "], drop_first=True)"
      ],
      "metadata": {
        "id": "b2I2_FAq2OAn"
      },
      "execution_count": null,
      "outputs": []
    },
    {
      "cell_type": "code",
      "source": [
        "df.info()"
      ],
      "metadata": {
        "id": "w0L0RWO02Ty-",
        "colab": {
          "base_uri": "https://localhost:8080/"
        },
        "outputId": "0cb7cae3-49ba-414e-841c-171559ee6a22"
      },
      "execution_count": null,
      "outputs": [
        {
          "output_type": "stream",
          "name": "stdout",
          "text": [
            "<class 'pandas.core.frame.DataFrame'>\n",
            "RangeIndex: 8523 entries, 0 to 8522\n",
            "Data columns (total 28 columns):\n",
            " #   Column                             Non-Null Count  Dtype  \n",
            "---  ------                             --------------  -----  \n",
            " 0   Weight                             8523 non-null   float64\n",
            " 1   ProductVisibility                  8523 non-null   float64\n",
            " 2   MRP                                8523 non-null   float64\n",
            " 3   EstablishmentYear                  8523 non-null   int64  \n",
            " 4   OutletSales                        8523 non-null   float64\n",
            " 5   FatContent_Regular                 8523 non-null   bool   \n",
            " 6   ProductType_Breads                 8523 non-null   bool   \n",
            " 7   ProductType_Breakfast              8523 non-null   bool   \n",
            " 8   ProductType_Canned                 8523 non-null   bool   \n",
            " 9   ProductType_Dairy                  8523 non-null   bool   \n",
            " 10  ProductType_Frozen Foods           8523 non-null   bool   \n",
            " 11  ProductType_Fruits and Vegetables  8523 non-null   bool   \n",
            " 12  ProductType_Hard Drinks            8523 non-null   bool   \n",
            " 13  ProductType_Health and Hygiene     8523 non-null   bool   \n",
            " 14  ProductType_Household              8523 non-null   bool   \n",
            " 15  ProductType_Meat                   8523 non-null   bool   \n",
            " 16  ProductType_Others                 8523 non-null   bool   \n",
            " 17  ProductType_Seafood                8523 non-null   bool   \n",
            " 18  ProductType_Snack Foods            8523 non-null   bool   \n",
            " 19  ProductType_Soft Drinks            8523 non-null   bool   \n",
            " 20  ProductType_Starchy Foods          8523 non-null   bool   \n",
            " 21  OutletSize_Medium                  8523 non-null   bool   \n",
            " 22  OutletSize_Small                   8523 non-null   bool   \n",
            " 23  LocationType_Tier 2                8523 non-null   bool   \n",
            " 24  LocationType_Tier 3                8523 non-null   bool   \n",
            " 25  OutletType_Supermarket Type1       8523 non-null   bool   \n",
            " 26  OutletType_Supermarket Type2       8523 non-null   bool   \n",
            " 27  OutletType_Supermarket Type3       8523 non-null   bool   \n",
            "dtypes: bool(23), float64(4), int64(1)\n",
            "memory usage: 524.5 KB\n"
          ]
        }
      ]
    },
    {
      "cell_type": "markdown",
      "source": [
        "## adding Outlet_age and dropping Establishment Year"
      ],
      "metadata": {
        "id": "sMOD_PkG2X4N"
      }
    },
    {
      "cell_type": "code",
      "source": [
        "df['OutletAge'] = 2025 - df['EstablishmentYear']\n",
        "df.drop('EstablishmentYear', axis=1, inplace=True)"
      ],
      "metadata": {
        "id": "pSSjukFp2aV_"
      },
      "execution_count": null,
      "outputs": []
    },
    {
      "cell_type": "code",
      "source": [
        "X = df.drop(columns='OutletSales', axis=1).values\n",
        "Y = df['OutletSales'].values"
      ],
      "metadata": {
        "id": "IRKWsgkv6In6"
      },
      "execution_count": null,
      "outputs": []
    },
    {
      "cell_type": "code",
      "source": [
        "\n",
        "x_train, x_test, y_train, y_test = train_test_split(X, Y, test_size=0.2, random_state=42)"
      ],
      "metadata": {
        "id": "T679FZ1a6SAZ"
      },
      "execution_count": null,
      "outputs": []
    },
    {
      "cell_type": "code",
      "source": [
        "print(X.shape, x_train.shape, x_test.shape)"
      ],
      "metadata": {
        "id": "V6UkZy9k6THH",
        "colab": {
          "base_uri": "https://localhost:8080/"
        },
        "outputId": "8df322e1-825f-44a1-d988-139132cb23e8"
      },
      "execution_count": null,
      "outputs": [
        {
          "output_type": "stream",
          "name": "stdout",
          "text": [
            "(8523, 27) (6818, 27) (1705, 27)\n"
          ]
        }
      ]
    },
    {
      "cell_type": "code",
      "source": [
        "class DecisionTreeRegressorScratch:\n",
        "    def __init__(self, max_depth=3, min_samples_split=2):\n",
        "        self.max_depth = max_depth\n",
        "        self.min_samples_split = min_samples_split\n",
        "        self.tree = None\n",
        "\n",
        "    def fit(self, X, y):\n",
        "        data = np.concatenate([X, y.reshape(-1, 1)], axis=1)\n",
        "        self.tree = self._build_tree(data)\n",
        "\n",
        "    def _build_tree(self, data, depth=0):\n",
        "        X, y = data[:, :-1], data[:, -1]\n",
        "        if len(y) < self.min_samples_split or depth >= self.max_depth:\n",
        "            return np.mean(y)\n",
        "\n",
        "        best_feature, best_thresh, best_loss = None, None, float('inf')\n",
        "        for feature in range(X.shape[1]):\n",
        "            thresholds = np.unique(X[:, feature])\n",
        "            for thresh in thresholds:\n",
        "                left = data[X[:, feature] <= thresh]\n",
        "                right = data[X[:, feature] > thresh]\n",
        "                if len(left) == 0 or len(right) == 0:\n",
        "                    continue\n",
        "                loss = np.var(left[:, -1]) * len(left) + np.var(right[:, -1]) * len(right)\n",
        "                if loss < best_loss:\n",
        "                    best_loss = loss\n",
        "                    best_feature = feature\n",
        "                    best_thresh = thresh\n",
        "\n",
        "        if best_feature is None:\n",
        "            return np.mean(y)\n",
        "\n",
        "        left = data[X[:, best_feature] <= best_thresh]\n",
        "        right = data[X[:, best_feature] > best_thresh]\n",
        "        return {\n",
        "            'feature': best_feature,\n",
        "            'threshold': best_thresh,\n",
        "            'left': self._build_tree(left, depth + 1),\n",
        "            'right': self._build_tree(right, depth + 1)\n",
        "        }\n",
        "\n",
        "    def _predict_sample(self, x, tree):\n",
        "        if not isinstance(tree, dict):\n",
        "            return tree\n",
        "        if x[tree['feature']] <= tree['threshold']:\n",
        "            return self._predict_sample(x, tree['left'])\n",
        "        else:\n",
        "            return self._predict_sample(x, tree['right'])\n",
        "\n",
        "    def predict(self, X):\n",
        "        return np.array([self._predict_sample(x, self.tree) for x in X])\n"
      ],
      "metadata": {
        "id": "EoIbSusdIq7k"
      },
      "execution_count": null,
      "outputs": []
    },
    {
      "cell_type": "code",
      "source": [
        "class GradientBoostingRegressorScratch:\n",
        "    def __init__(self, n_estimators=50, learning_rate=0.5, max_depth=3):\n",
        "        self.n_estimators = n_estimators\n",
        "        self.learning_rate = learning_rate\n",
        "        self.max_depth = max_depth\n",
        "        self.trees = []\n",
        "        self.initial_pred = None\n",
        "\n",
        "    def fit(self, X, y):\n",
        "        y = y.astype(np.float64)\n",
        "        self.initial_pred = np.mean(y)\n",
        "        y_pred = np.full_like(y, self.initial_pred, dtype=np.float64)\n",
        "\n",
        "        for _ in range(self.n_estimators):\n",
        "            residuals = y - y_pred\n",
        "            tree = DecisionTreeRegressorScratch(max_depth=self.max_depth)\n",
        "            tree.fit(X, residuals)\n",
        "            self.trees.append(tree)\n",
        "\n",
        "            update = tree.predict(X)\n",
        "            y_pred += self.learning_rate * update\n",
        "\n",
        "    def predict(self, X):\n",
        "        y_pred = np.full((X.shape[0],), self.initial_pred, dtype=np.float64)\n",
        "        for tree in self.trees:\n",
        "            y_pred += self.learning_rate * tree.predict(X)\n",
        "        return y_pred\n"
      ],
      "metadata": {
        "id": "HnGS1_042G54"
      },
      "execution_count": null,
      "outputs": []
    },
    {
      "cell_type": "code",
      "source": [
        "# Train the model\n",
        "model = GradientBoostingRegressorScratch(n_estimators=10, learning_rate=0.1, max_depth=3)\n",
        "\n",
        "model.fit(x_train, y_train)\n",
        "# Predict\n",
        "y_pred_xgb = model.predict(x_test)"
      ],
      "metadata": {
        "id": "4900R4UOIsb-"
      },
      "execution_count": null,
      "outputs": []
    },
    {
      "cell_type": "code",
      "source": [
        "# Make predictions\n",
        "y_pred_xgb = model.predict(x_test)\n",
        "\n",
        "# Print only first 10 rows with their feature values, predicted and actual sales\n",
        "for i in range(min(10, len(x_test))):\n",
        "    features = x_test[i]\n",
        "    print(f\"Row {i+1}: Features = {features}, Predicted = {y_pred_xgb[i]:.2f}, Actual = {y_test[i]:.2f}\")\n",
        "\n"
      ],
      "metadata": {
        "colab": {
          "base_uri": "https://localhost:8080/"
        },
        "id": "JxenXFw10T6f",
        "outputId": "28b140ae-6f15-453a-8266-cfe4a97b1c19"
      },
      "execution_count": null,
      "outputs": [
        {
          "output_type": "stream",
          "name": "stdout",
          "text": [
            "Row 1: Features = [14.3 0.026299797 79.4302 False False False False False True False False\n",
            " False False False False False False False False False False False True\n",
            " True False False 38], Predicted = 1579.40, Actual = 1743.06\n",
            "Row 2: Features = [7.93 0.07113587 42.7086 False False False False False False False False\n",
            " True False False False False False False False False True False False\n",
            " True False False 28], Predicted = 1261.31, Actual = 356.87\n",
            "Row 3: Features = [14.5 0.041313203 42.0454 True False False True False False False False\n",
            " False False False False False False False False True False False False\n",
            " True False False 26], Predicted = 1261.31, Actual = 377.51\n",
            "Row 4: Features = [12.857645184135976 0.044767032 173.7054 True False False False False\n",
            " False False False False False False False False False True False True\n",
            " False False True False False True 40], Predicted = 3780.32, Actual = 5778.48\n",
            "Row 5: Features = [10.195 0.012455787 197.511 True False False False False False False False\n",
            " False False True False False False False False False True True False True\n",
            " False False 21], Predicted = 2866.67, Actual = 2356.93\n",
            "Row 6: Features = [9.5 0.041951439 32.49 False False False False False False False False\n",
            " False False False False False False True False True False False False\n",
            " True False False 26], Predicted = 1261.31, Actual = 865.54\n",
            "Row 7: Features = [12.857645184135976 0.126831854 209.027 False False False True False False\n",
            " False False False False False False False False False False True False\n",
            " False True False False True 40], Predicted = 4371.05, Actual = 4613.99\n",
            "Row 8: Features = [10.5 0.013551445 142.0154 True False False False False False False False\n",
            " False False False False False True False False True False False True\n",
            " False True False 16], Predicted = 2027.50, Actual = 2410.86\n",
            "Row 9: Features = [14.0 0.023831558 103.1332 False False False False False False False False\n",
            " False False False False False False False False True False False True\n",
            " False True False 16], Predicted = 1733.66, Actual = 1948.13\n",
            "Row 10: Features = [8.51 0.016176344 192.1478 False False False False False False False False\n",
            " False True False False False False False False True False False True\n",
            " False True False 16], Predicted = 2360.81, Actual = 1937.48\n"
          ]
        }
      ]
    },
    {
      "cell_type": "code",
      "source": [
        "\n",
        "\n",
        "# XGBoost (scratch)\n",
        "rmse_xgb = np.sqrt(mean_squared_error(y_test, y_pred_xgb))\n",
        "r2_xgb = r2_score(y_test, y_pred_xgb)\n",
        "\n",
        "\n",
        "\n",
        "print(\"\\n🔹 XGBoost\")\n",
        "print(\"RMSE:\", rmse_xgb)\n",
        "print(\"R² Score:\", r2_xgb)"
      ],
      "metadata": {
        "id": "jNuBRRg-KZLu",
        "colab": {
          "base_uri": "https://localhost:8080/"
        },
        "outputId": "520c9831-39c0-4ab1-f126-a52dd3111745"
      },
      "execution_count": null,
      "outputs": [
        {
          "output_type": "stream",
          "name": "stdout",
          "text": [
            "\n",
            "🔹 XGBoost\n",
            "RMSE: 1212.632390353079\n",
            "R² Score: 0.45897957737119444\n"
          ]
        }
      ]
    },
    {
      "cell_type": "code",
      "source": [
        "df.info()"
      ],
      "metadata": {
        "id": "InU92WlIVilZ",
        "outputId": "a1d8b10b-3b66-4be9-9ab9-949e82dd64b7",
        "colab": {
          "base_uri": "https://localhost:8080/"
        }
      },
      "execution_count": null,
      "outputs": [
        {
          "output_type": "stream",
          "name": "stdout",
          "text": [
            "<class 'pandas.core.frame.DataFrame'>\n",
            "RangeIndex: 8523 entries, 0 to 8522\n",
            "Data columns (total 28 columns):\n",
            " #   Column                             Non-Null Count  Dtype  \n",
            "---  ------                             --------------  -----  \n",
            " 0   Weight                             8523 non-null   float64\n",
            " 1   ProductVisibility                  8523 non-null   float64\n",
            " 2   MRP                                8523 non-null   float64\n",
            " 3   OutletSales                        8523 non-null   float64\n",
            " 4   FatContent_Regular                 8523 non-null   bool   \n",
            " 5   ProductType_Breads                 8523 non-null   bool   \n",
            " 6   ProductType_Breakfast              8523 non-null   bool   \n",
            " 7   ProductType_Canned                 8523 non-null   bool   \n",
            " 8   ProductType_Dairy                  8523 non-null   bool   \n",
            " 9   ProductType_Frozen Foods           8523 non-null   bool   \n",
            " 10  ProductType_Fruits and Vegetables  8523 non-null   bool   \n",
            " 11  ProductType_Hard Drinks            8523 non-null   bool   \n",
            " 12  ProductType_Health and Hygiene     8523 non-null   bool   \n",
            " 13  ProductType_Household              8523 non-null   bool   \n",
            " 14  ProductType_Meat                   8523 non-null   bool   \n",
            " 15  ProductType_Others                 8523 non-null   bool   \n",
            " 16  ProductType_Seafood                8523 non-null   bool   \n",
            " 17  ProductType_Snack Foods            8523 non-null   bool   \n",
            " 18  ProductType_Soft Drinks            8523 non-null   bool   \n",
            " 19  ProductType_Starchy Foods          8523 non-null   bool   \n",
            " 20  OutletSize_Medium                  8523 non-null   bool   \n",
            " 21  OutletSize_Small                   8523 non-null   bool   \n",
            " 22  LocationType_Tier 2                8523 non-null   bool   \n",
            " 23  LocationType_Tier 3                8523 non-null   bool   \n",
            " 24  OutletType_Supermarket Type1       8523 non-null   bool   \n",
            " 25  OutletType_Supermarket Type2       8523 non-null   bool   \n",
            " 26  OutletType_Supermarket Type3       8523 non-null   bool   \n",
            " 27  OutletAge                          8523 non-null   int64  \n",
            "dtypes: bool(23), float64(4), int64(1)\n",
            "memory usage: 524.5 KB\n"
          ]
        }
      ]
    }
  ]
}