{
 "cells": [
  {
   "cell_type": "code",
   "execution_count": 98,
   "id": "13833763-127d-4796-a11a-0505fa977968",
   "metadata": {},
   "outputs": [],
   "source": [
    "import numpy as np\n",
    "import pandas as pd\n",
    "import seaborn as sns\n",
    "from sklearn.preprocessing import LabelEncoder\n",
    "from sklearn.model_selection import train_test_split\n",
    "from sklearn.metrics import mean_squared_error, r2_score\n",
    "import matplotlib.pyplot as plt\n",
    "from sklearn import metrics\n",
    "from sklearn.tree import DecisionTreeRegressor"
   ]
  },
  {
   "cell_type": "code",
   "execution_count": 100,
   "id": "651339c1-47ca-4fc2-b4bd-488b93365fee",
   "metadata": {},
   "outputs": [],
   "source": [
    "df = pd.read_csv(r'C:\\Users\\swarn\\Downloads\\datasets(ML)/Train-Set.csv')\n",
    "test_data =   pd.read_csv(r'C:\\Users\\swarn\\Downloads\\datasets(ML)/Test-Set.csv')"
   ]
  },
  {
   "cell_type": "code",
   "execution_count": 102,
   "id": "ef4ceef9-4712-41d3-ac71-0d314f25403c",
   "metadata": {},
   "outputs": [],
   "source": [
    "#Preprocessing the data"
   ]
  },
  {
   "cell_type": "code",
   "execution_count": 104,
   "id": "0bc31bfa-2e20-4e98-8089-dae907e39ae2",
   "metadata": {},
   "outputs": [],
   "source": [
    "# inspecting the data"
   ]
  },
  {
   "cell_type": "code",
   "execution_count": 106,
   "id": "58867b46-df09-45fb-8b0c-0676b114b914",
   "metadata": {},
   "outputs": [
    {
     "name": "stdout",
     "output_type": "stream",
     "text": [
      "  ProductID  Weight FatContent  ProductVisibility            ProductType  \\\n",
      "0     FDA15    9.30    Low Fat           0.016047                  Dairy   \n",
      "1     DRC01    5.92    Regular           0.019278            Soft Drinks   \n",
      "2     FDN15   17.50    Low Fat           0.016760                   Meat   \n",
      "3     FDX07   19.20    Regular           0.000000  Fruits and Vegetables   \n",
      "4     NCD19    8.93    Low Fat           0.000000              Household   \n",
      "\n",
      "        MRP OutletID  EstablishmentYear OutletSize LocationType  \\\n",
      "0  249.8092   OUT049               1999     Medium       Tier 1   \n",
      "1   48.2692   OUT018               2009     Medium       Tier 3   \n",
      "2  141.6180   OUT049               1999     Medium       Tier 1   \n",
      "3  182.0950   OUT010               1998        NaN       Tier 3   \n",
      "4   53.8614   OUT013               1987       High       Tier 3   \n",
      "\n",
      "          OutletType  OutletSales  \n",
      "0  Supermarket Type1    3735.1380  \n",
      "1  Supermarket Type2     443.4228  \n",
      "2  Supermarket Type1    2097.2700  \n",
      "3      Grocery Store     732.3800  \n",
      "4  Supermarket Type1     994.7052  \n"
     ]
    }
   ],
   "source": [
    "print(df.head())"
   ]
  },
  {
   "cell_type": "code",
   "execution_count": 108,
   "id": "d2b53dd5-6e45-4ec0-9e83-7195d74f3613",
   "metadata": {},
   "outputs": [
    {
     "name": "stdout",
     "output_type": "stream",
     "text": [
      "<class 'pandas.core.frame.DataFrame'>\n",
      "RangeIndex: 8523 entries, 0 to 8522\n",
      "Data columns (total 12 columns):\n",
      " #   Column             Non-Null Count  Dtype  \n",
      "---  ------             --------------  -----  \n",
      " 0   ProductID          8523 non-null   object \n",
      " 1   Weight             7060 non-null   float64\n",
      " 2   FatContent         8523 non-null   object \n",
      " 3   ProductVisibility  8523 non-null   float64\n",
      " 4   ProductType        8523 non-null   object \n",
      " 5   MRP                8523 non-null   float64\n",
      " 6   OutletID           8523 non-null   object \n",
      " 7   EstablishmentYear  8523 non-null   int64  \n",
      " 8   OutletSize         6113 non-null   object \n",
      " 9   LocationType       8523 non-null   object \n",
      " 10  OutletType         8523 non-null   object \n",
      " 11  OutletSales        8523 non-null   float64\n",
      "dtypes: float64(4), int64(1), object(7)\n",
      "memory usage: 799.2+ KB\n",
      "None\n",
      "            Weight  ProductVisibility          MRP  EstablishmentYear  \\\n",
      "count  7060.000000        8523.000000  8523.000000        8523.000000   \n",
      "mean     12.857645           0.066132   140.992782        1997.831867   \n",
      "std       4.643456           0.051598    62.275067           8.371760   \n",
      "min       4.555000           0.000000    31.290000        1985.000000   \n",
      "25%       8.773750           0.026989    93.826500        1987.000000   \n",
      "50%      12.600000           0.053931   143.012800        1999.000000   \n",
      "75%      16.850000           0.094585   185.643700        2004.000000   \n",
      "max      21.350000           0.328391   266.888400        2009.000000   \n",
      "\n",
      "        OutletSales  \n",
      "count   8523.000000  \n",
      "mean    2181.288914  \n",
      "std     1706.499616  \n",
      "min       33.290000  \n",
      "25%      834.247400  \n",
      "50%     1794.331000  \n",
      "75%     3101.296400  \n",
      "max    13086.964800  \n",
      "ProductID               0\n",
      "Weight               1463\n",
      "FatContent              0\n",
      "ProductVisibility       0\n",
      "ProductType             0\n",
      "MRP                     0\n",
      "OutletID                0\n",
      "EstablishmentYear       0\n",
      "OutletSize           2410\n",
      "LocationType            0\n",
      "OutletType              0\n",
      "OutletSales             0\n",
      "dtype: int64\n"
     ]
    }
   ],
   "source": [
    "print(df.info())\n",
    "print(df.describe())\n",
    "print(df.isnull().sum())\n"
   ]
  },
  {
   "cell_type": "code",
   "execution_count": 110,
   "id": "ec36729b-18c1-414d-a653-33cb4c7bfddb",
   "metadata": {},
   "outputs": [],
   "source": [
    "#dropping irrelevant columns\n",
    "#not considering ProductID, and OutletID"
   ]
  },
  {
   "cell_type": "code",
   "execution_count": 112,
   "id": "80b26298-6300-496c-a7a1-c67630fe6a85",
   "metadata": {},
   "outputs": [],
   "source": [
    "df.drop(['ProductID', 'OutletID'], axis=1, inplace=True)\n"
   ]
  },
  {
   "cell_type": "code",
   "execution_count": 114,
   "id": "7c998814-40b0-4f88-ada9-c1bca200c0ad",
   "metadata": {},
   "outputs": [],
   "source": [
    "#filling missing values"
   ]
  },
  {
   "cell_type": "code",
   "execution_count": 116,
   "id": "27ae683b-5e8f-45d6-bfd6-8f8434b35599",
   "metadata": {},
   "outputs": [],
   "source": [
    "#for [WEIGHT]"
   ]
  },
  {
   "cell_type": "code",
   "execution_count": 118,
   "id": "327c4d91-19fb-4d6e-a135-52682dedd66c",
   "metadata": {},
   "outputs": [
    {
     "name": "stdout",
     "output_type": "stream",
     "text": [
      "0.0824262091221237\n"
     ]
    }
   ],
   "source": [
    "print(df['Weight'].skew())\n"
   ]
  },
  {
   "cell_type": "code",
   "execution_count": 120,
   "id": "058eaa5a-b7ba-4c38-8828-7d486229ce82",
   "metadata": {},
   "outputs": [],
   "source": [
    "#approoximately symmetric\n",
    "#finding if there are any outliers"
   ]
  },
  {
   "cell_type": "code",
   "execution_count": 122,
   "id": "e58b3d9b-1f5a-4aab-9377-cdbccef4463d",
   "metadata": {},
   "outputs": [
    {
     "data": {
      "image/png": "[encoded data removed]",
      "text/plain": [
       "<Figure size 640x480 with 1 Axes>"
      ]
     },
     "metadata": {},
     "output_type": "display_data"
    }
   ],
   "source": [
    "sns.boxplot(x=df['Weight'])\n",
    "plt.show()"
   ]
  },
  {
   "cell_type": "code",
   "execution_count": 123,
   "id": "0c343c28-97e8-49b7-b6b0-f4831cb5e1f4",
   "metadata": {},
   "outputs": [],
   "source": [
    "df['Weight'] = df['Weight'].fillna(df['Weight'].mean())\n"
   ]
  },
  {
   "cell_type": "code",
   "execution_count": 125,
   "id": "74e1141c-b06f-4fb8-bd6e-276124920505",
   "metadata": {},
   "outputs": [],
   "source": [
    "#for [OutletSize]"
   ]
  },
  {
   "cell_type": "code",
   "execution_count": 128,
   "id": "6716891b-b6e8-4d02-b3e7-5ea8387f0f8d",
   "metadata": {},
   "outputs": [],
   "source": [
    "#filling missing values in OuletSize based on the OutletType"
   ]
  },
  {
   "cell_type": "code",
   "execution_count": 130,
   "id": "1ae902f3-bf60-4b5f-b626-b4ad932ae5ee",
   "metadata": {},
   "outputs": [
    {
     "name": "stdout",
     "output_type": "stream",
     "text": [
      "OutletType Grocery Store Supermarket Type1 Supermarket Type2 Supermarket Type3\n",
      "OutletSize         Small             Small            Medium            Medium\n"
     ]
    }
   ],
   "source": [
    "mode_of_Outlet_size = df.pivot_table(values='OutletSize', columns='OutletType', aggfunc=lambda x: x.mode()[0])\n",
    "print(mode_of_Outlet_size)"
   ]
  },
  {
   "cell_type": "code",
   "execution_count": 132,
   "id": "356bcd18-762c-4314-97f2-f2ef4b7868d7",
   "metadata": {},
   "outputs": [],
   "source": [
    "miss_values = df['OutletSize'].isnull()\n",
    "df.loc[miss_values, 'OutletSize'] = df.loc[miss_values, 'OutletType'].apply(lambda x: mode_of_Outlet_size[x])"
   ]
  },
  {
   "cell_type": "code",
   "execution_count": 134,
   "id": "b0b52791-2d47-45b1-86af-7ccd43d5fa7c",
   "metadata": {},
   "outputs": [
    {
     "data": {
      "text/plain": [
       "Weight               0\n",
       "FatContent           0\n",
       "ProductVisibility    0\n",
       "ProductType          0\n",
       "MRP                  0\n",
       "EstablishmentYear    0\n",
       "OutletSize           0\n",
       "LocationType         0\n",
       "OutletType           0\n",
       "OutletSales          0\n",
       "dtype: int64"
      ]
     },
     "execution_count": 134,
     "metadata": {},
     "output_type": "execute_result"
    }
   ],
   "source": [
    "df.isnull().sum()"
   ]
  },
  {
   "cell_type": "code",
   "execution_count": 136,
   "id": "26f08891-ac68-4735-ba18-ace013dadd30",
   "metadata": {},
   "outputs": [],
   "source": [
    "### no missing values"
   ]
  },
  {
   "cell_type": "code",
   "execution_count": 138,
   "id": "d382a71b-613b-4dfc-a2a0-7f70e15c6638",
   "metadata": {},
   "outputs": [],
   "source": [
    "### CHECKING FOR UNIQUE VALUES IN CATEGORICAL COLUMNS"
   ]
  },
  {
   "cell_type": "code",
   "execution_count": 140,
   "id": "ff8f6bd1-f4e9-4fa1-97f5-5dbe8aeca4a7",
   "metadata": {},
   "outputs": [
    {
     "name": "stdout",
     "output_type": "stream",
     "text": [
      "FatContent unique values:\n",
      "['Low Fat' 'Regular' 'low fat' 'LF' 'reg']\n",
      "----------------------------------------\n",
      "ProductType unique values:\n",
      "['Dairy' 'Soft Drinks' 'Meat' 'Fruits and Vegetables' 'Household'\n",
      " 'Baking Goods' 'Snack Foods' 'Frozen Foods' 'Breakfast'\n",
      " 'Health and Hygiene' 'Hard Drinks' 'Canned' 'Breads' 'Starchy Foods'\n",
      " 'Others' 'Seafood']\n",
      "----------------------------------------\n",
      "OutletSize unique values:\n",
      "['Medium' 'Small' 'High']\n",
      "----------------------------------------\n",
      "LocationType unique values:\n",
      "['Tier 1' 'Tier 3' 'Tier 2']\n",
      "----------------------------------------\n",
      "OutletType unique values:\n",
      "['Supermarket Type1' 'Supermarket Type2' 'Grocery Store'\n",
      " 'Supermarket Type3']\n",
      "----------------------------------------\n"
     ]
    }
   ],
   "source": [
    "categorical_cols = ['FatContent', 'ProductType', 'OutletSize', 'LocationType', 'OutletType']\n",
    "\n",
    "for col in categorical_cols:\n",
    "    print(f\"{col} unique values:\")\n",
    "    print(df[col].unique())\n",
    "    print(\"-\" * 40)\n"
   ]
  },
  {
   "cell_type": "code",
   "execution_count": 142,
   "id": "858d2dbb-2955-4268-9970-9a829bb4d1e9",
   "metadata": {},
   "outputs": [],
   "source": [
    "df['FatContent'] = df['FatContent'].replace({\n",
    "    'low fat': 'Low Fat',\n",
    "    'LF': 'Low Fat',\n",
    "    'reg': 'Regular'\n",
    "})\n"
   ]
  },
  {
   "cell_type": "code",
   "execution_count": 144,
   "id": "1b26954a-3f2f-4c0e-856f-e8388a75dd34",
   "metadata": {},
   "outputs": [
    {
     "name": "stdout",
     "output_type": "stream",
     "text": [
      "['Low Fat' 'Regular']\n"
     ]
    }
   ],
   "source": [
    "print(df['FatContent'].unique())"
   ]
  },
  {
   "cell_type": "code",
   "execution_count": 146,
   "id": "2be98b83-73ff-49aa-8de8-79656154adc1",
   "metadata": {},
   "outputs": [],
   "source": [
    "### ONE HOT ENCODING"
   ]
  },
  {
   "cell_type": "code",
   "execution_count": 148,
   "id": "92286bad-27ea-499a-a28c-b8edd7b0d772",
   "metadata": {},
   "outputs": [],
   "source": [
    "df = pd.get_dummies(df, columns=[\n",
    "    'FatContent', 'ProductType', 'OutletSize',\n",
    "    'LocationType', 'OutletType'\n",
    "], drop_first=True)"
   ]
  },
  {
   "cell_type": "code",
   "execution_count": 150,
   "id": "14bf7a83-7e48-46f4-930d-151fa49a49c5",
   "metadata": {},
   "outputs": [
    {
     "name": "stdout",
     "output_type": "stream",
     "text": [
      "<class 'pandas.core.frame.DataFrame'>\n",
      "RangeIndex: 8523 entries, 0 to 8522\n",
      "Data columns (total 28 columns):\n",
      " #   Column                             Non-Null Count  Dtype  \n",
      "---  ------                             --------------  -----  \n",
      " 0   Weight                             8523 non-null   float64\n",
      " 1   ProductVisibility                  8523 non-null   float64\n",
      " 2   MRP                                8523 non-null   float64\n",
      " 3   EstablishmentYear                  8523 non-null   int64  \n",
      " 4   OutletSales                        8523 non-null   float64\n",
      " 5   FatContent_Regular                 8523 non-null   bool   \n",
      " 6   ProductType_Breads                 8523 non-null   bool   \n",
      " 7   ProductType_Breakfast              8523 non-null   bool   \n",
      " 8   ProductType_Canned                 8523 non-null   bool   \n",
      " 9   ProductType_Dairy                  8523 non-null   bool   \n",
      " 10  ProductType_Frozen Foods           8523 non-null   bool   \n",
      " 11  ProductType_Fruits and Vegetables  8523 non-null   bool   \n",
      " 12  ProductType_Hard Drinks            8523 non-null   bool   \n",
      " 13  ProductType_Health and Hygiene     8523 non-null   bool   \n",
      " 14  ProductType_Household              8523 non-null   bool   \n",
      " 15  ProductType_Meat                   8523 non-null   bool   \n",
      " 16  ProductType_Others                 8523 non-null   bool   \n",
      " 17  ProductType_Seafood                8523 non-null   bool   \n",
      " 18  ProductType_Snack Foods            8523 non-null   bool   \n",
      " 19  ProductType_Soft Drinks            8523 non-null   bool   \n",
      " 20  ProductType_Starchy Foods          8523 non-null   bool   \n",
      " 21  OutletSize_Medium                  8523 non-null   bool   \n",
      " 22  OutletSize_Small                   8523 non-null   bool   \n",
      " 23  LocationType_Tier 2                8523 non-null   bool   \n",
      " 24  LocationType_Tier 3                8523 non-null   bool   \n",
      " 25  OutletType_Supermarket Type1       8523 non-null   bool   \n",
      " 26  OutletType_Supermarket Type2       8523 non-null   bool   \n",
      " 27  OutletType_Supermarket Type3       8523 non-null   bool   \n",
      "dtypes: bool(23), float64(4), int64(1)\n",
      "memory usage: 524.5 KB\n"
     ]
    }
   ],
   "source": [
    "df.info()"
   ]
  },
  {
   "cell_type": "code",
   "execution_count": 152,
   "id": "41a5517d-7c8b-4582-b6ca-8a3768359b4b",
   "metadata": {},
   "outputs": [],
   "source": [
    "## adding Outlet_age and dropping Establishment Year"
   ]
  },
  {
   "cell_type": "code",
   "execution_count": 154,
   "id": "bd715f0b-1806-47be-8016-f0e58b8fe05a",
   "metadata": {},
   "outputs": [],
   "source": [
    "df['OutletAge'] = 2025 - df['EstablishmentYear']\n",
    "df.drop('EstablishmentYear', axis=1, inplace=True)"
   ]
  },
  {
   "cell_type": "code",
   "execution_count": 156,
   "id": "0c1a953e-55cf-4fe4-9650-fec8153c015d",
   "metadata": {},
   "outputs": [
    {
     "name": "stdout",
     "output_type": "stream",
     "text": [
      "<class 'pandas.core.frame.DataFrame'>\n",
      "RangeIndex: 8523 entries, 0 to 8522\n",
      "Data columns (total 28 columns):\n",
      " #   Column                             Non-Null Count  Dtype  \n",
      "---  ------                             --------------  -----  \n",
      " 0   Weight                             8523 non-null   float64\n",
      " 1   ProductVisibility                  8523 non-null   float64\n",
      " 2   MRP                                8523 non-null   float64\n",
      " 3   OutletSales                        8523 non-null   float64\n",
      " 4   FatContent_Regular                 8523 non-null   bool   \n",
      " 5   ProductType_Breads                 8523 non-null   bool   \n",
      " 6   ProductType_Breakfast              8523 non-null   bool   \n",
      " 7   ProductType_Canned                 8523 non-null   bool   \n",
      " 8   ProductType_Dairy                  8523 non-null   bool   \n",
      " 9   ProductType_Frozen Foods           8523 non-null   bool   \n",
      " 10  ProductType_Fruits and Vegetables  8523 non-null   bool   \n",
      " 11  ProductType_Hard Drinks            8523 non-null   bool   \n",
      " 12  ProductType_Health and Hygiene     8523 non-null   bool   \n",
      " 13  ProductType_Household              8523 non-null   bool   \n",
      " 14  ProductType_Meat                   8523 non-null   bool   \n",
      " 15  ProductType_Others                 8523 non-null   bool   \n",
      " 16  ProductType_Seafood                8523 non-null   bool   \n",
      " 17  ProductType_Snack Foods            8523 non-null   bool   \n",
      " 18  ProductType_Soft Drinks            8523 non-null   bool   \n",
      " 19  ProductType_Starchy Foods          8523 non-null   bool   \n",
      " 20  OutletSize_Medium                  8523 non-null   bool   \n",
      " 21  OutletSize_Small                   8523 non-null   bool   \n",
      " 22  LocationType_Tier 2                8523 non-null   bool   \n",
      " 23  LocationType_Tier 3                8523 non-null   bool   \n",
      " 24  OutletType_Supermarket Type1       8523 non-null   bool   \n",
      " 25  OutletType_Supermarket Type2       8523 non-null   bool   \n",
      " 26  OutletType_Supermarket Type3       8523 non-null   bool   \n",
      " 27  OutletAge                          8523 non-null   int64  \n",
      "dtypes: bool(23), float64(4), int64(1)\n",
      "memory usage: 524.5 KB\n"
     ]
    },
    {
     "data": {
      "text/plain": [
       "Weight                               0\n",
       "ProductVisibility                    0\n",
       "MRP                                  0\n",
       "OutletSales                          0\n",
       "FatContent_Regular                   0\n",
       "ProductType_Breads                   0\n",
       "ProductType_Breakfast                0\n",
       "ProductType_Canned                   0\n",
       "ProductType_Dairy                    0\n",
       "ProductType_Frozen Foods             0\n",
       "ProductType_Fruits and Vegetables    0\n",
       "ProductType_Hard Drinks              0\n",
       "ProductType_Health and Hygiene       0\n",
       "ProductType_Household                0\n",
       "ProductType_Meat                     0\n",
       "ProductType_Others                   0\n",
       "ProductType_Seafood                  0\n",
       "ProductType_Snack Foods              0\n",
       "ProductType_Soft Drinks              0\n",
       "ProductType_Starchy Foods            0\n",
       "OutletSize_Medium                    0\n",
       "OutletSize_Small                     0\n",
       "LocationType_Tier 2                  0\n",
       "LocationType_Tier 3                  0\n",
       "OutletType_Supermarket Type1         0\n",
       "OutletType_Supermarket Type2         0\n",
       "OutletType_Supermarket Type3         0\n",
       "OutletAge                            0\n",
       "dtype: int64"
      ]
     },
     "execution_count": 156,
     "metadata": {},
     "output_type": "execute_result"
    }
   ],
   "source": [
    "df.describe()\n",
    "df.info()\n",
    "df.isnull().sum()"
   ]
  },
  {
   "cell_type": "code",
   "execution_count": 158,
   "id": "305d6b9a-9c4f-431a-8aff-358dc1600445",
   "metadata": {},
   "outputs": [],
   "source": [
    "##futher feature engineering done , to get the better r2_score in the custom regressor\n",
    "df['ProductVisibility'] = np.expm1(df['ProductVisibility'])\n",
    "\n",
    "df['MRP_Visibility'] = df['MRP'] * df['ProductVisibility']\n",
    "df['Weight_MRP'] = df['Weight'] * df['MRP']\n"
   ]
  },
  {
   "cell_type": "code",
   "execution_count": 160,
   "id": "917aeb4a-2005-46d6-87ad-7cffef8b87fd",
   "metadata": {},
   "outputs": [],
   "source": [
    "### Splitting features"
   ]
  },
  {
   "cell_type": "code",
   "execution_count": 162,
   "id": "4fce98c8-bc97-41b9-bf90-5483d44b834a",
   "metadata": {},
   "outputs": [],
   "source": [
    "X = df.drop('OutletSales', axis=1)\n",
    "y = df['OutletSales']"
   ]
  },
  {
   "cell_type": "code",
   "execution_count": 164,
   "id": "1e8f8bf4-ed5a-4fac-a9c5-d5744b2fc7ae",
   "metadata": {},
   "outputs": [],
   "source": [
    "### Splitting the data to train and test"
   ]
  },
  {
   "cell_type": "code",
   "execution_count": 166,
   "id": "13bf5736-7cb8-4fdf-b0a3-ec3e52bf7d5d",
   "metadata": {},
   "outputs": [
    {
     "name": "stdout",
     "output_type": "stream",
     "text": [
      "   Weight  ProductVisibility       MRP  OutletSales  FatContent_Regular  \\\n",
      "0    9.30           0.016177  249.8092    3735.1380               False   \n",
      "1    5.92           0.019465   48.2692     443.4228                True   \n",
      "2   17.50           0.016901  141.6180    2097.2700               False   \n",
      "3   19.20           0.000000  182.0950     732.3800                True   \n",
      "4    8.93           0.000000   53.8614     994.7052               False   \n",
      "\n",
      "   ProductType_Breads  ProductType_Breakfast  ProductType_Canned  \\\n",
      "0               False                  False               False   \n",
      "1               False                  False               False   \n",
      "2               False                  False               False   \n",
      "3               False                  False               False   \n",
      "4               False                  False               False   \n",
      "\n",
      "   ProductType_Dairy  ProductType_Frozen Foods  ...  OutletSize_Medium  \\\n",
      "0               True                     False  ...               True   \n",
      "1              False                     False  ...               True   \n",
      "2              False                     False  ...               True   \n",
      "3              False                     False  ...              False   \n",
      "4              False                     False  ...              False   \n",
      "\n",
      "   OutletSize_Small  LocationType_Tier 2  LocationType_Tier 3  \\\n",
      "0             False                False                False   \n",
      "1             False                False                 True   \n",
      "2             False                False                False   \n",
      "3              True                False                 True   \n",
      "4             False                False                 True   \n",
      "\n",
      "   OutletType_Supermarket Type1  OutletType_Supermarket Type2  \\\n",
      "0                          True                         False   \n",
      "1                         False                          True   \n",
      "2                          True                         False   \n",
      "3                         False                         False   \n",
      "4                          True                         False   \n",
      "\n",
      "   OutletType_Supermarket Type3  OutletAge  MRP_Visibility   Weight_MRP  \n",
      "0                         False         26        4.041101  2323.225560  \n",
      "1                         False         16        0.939572   285.753664  \n",
      "2                         False         26        2.393530  2478.315000  \n",
      "3                         False         27        0.000000  3496.224000  \n",
      "4                         False         38        0.000000   480.982302  \n",
      "\n",
      "[5 rows x 30 columns]\n"
     ]
    }
   ],
   "source": [
    "print(df.head())"
   ]
  },
  {
   "cell_type": "code",
   "execution_count": 168,
   "id": "1d992616-3cb4-4d5c-b1c2-88dfc699286d",
   "metadata": {},
   "outputs": [],
   "source": [
    "X_train, X_test, y_train, y_test = train_test_split(X, y, test_size=0.1, random_state=2529)"
   ]
  },
  {
   "cell_type": "code",
   "execution_count": 170,
   "id": "f705ce8d-e0af-4254-8684-2781e8b94822",
   "metadata": {},
   "outputs": [],
   "source": [
    "### Randomforest implementation"
   ]
  },
  {
   "cell_type": "code",
   "execution_count": 172,
   "id": "c0131a42-5b86-4e90-9f53-9dcc4f067c9f",
   "metadata": {},
   "outputs": [],
   "source": [
    "import numpy as np\n",
    "from sklearn.tree import DecisionTreeRegressor\n",
    "from tqdm import tqdm  # For optional progress bar\n",
    "\n",
    "class BetterRandomForestRegressor:\n",
    "    def __init__(self, n_estimators=1000, max_features='sqrt', max_depth=None, random_state=None):\n",
    "        self.n_estimators = n_estimators\n",
    "        self.max_features = max_features\n",
    "        self.max_depth = max_depth\n",
    "        self.random_state = random_state\n",
    "        self.trees = []\n",
    "        self.features_indices = []\n",
    "        self.rng = np.random.RandomState(self.random_state)\n",
    "\n",
    "    def fit(self, X, y):\n",
    "        self.trees = []\n",
    "        self.features_indices = []\n",
    "        n_samples, n_features = X.shape\n",
    "\n",
    "        # Decide number of features to select at each split\n",
    "        if self.max_features == 'sqrt':\n",
    "            max_features = int(np.sqrt(n_features))\n",
    "        elif self.max_features == 'log2':\n",
    "            max_features = int(np.log2(n_features))\n",
    "        elif isinstance(self.max_features, int):\n",
    "            max_features = self.max_features\n",
    "        else:\n",
    "            max_features = n_features  # Use all features\n",
    "\n",
    "        for _ in tqdm(range(self.n_estimators), desc=\"Training Trees\"):\n",
    "            # Bootstrap sampling\n",
    "            indices = self.rng.choice(n_samples, size=n_samples, replace=True)\n",
    "            X_sample = X[indices]\n",
    "            y_sample = y[indices]\n",
    "\n",
    "            # Random subset of features\n",
    "            features = self.rng.choice(n_features, size=max_features, replace=False)\n",
    "            self.features_indices.append(features)\n",
    "\n",
    "            # Create a Decision Tree with a different random_state for each tree\n",
    "            tree_random_state = self.rng.randint(0, 10000)\n",
    "            tree = DecisionTreeRegressor(max_depth=self.max_depth, random_state=tree_random_state)\n",
    "            tree.fit(X_sample[:, features], y_sample)\n",
    "            self.trees.append(tree)\n",
    "\n",
    "    def predict(self, X):\n",
    "        preds = np.zeros((X.shape[0], self.n_estimators))\n",
    "        \n",
    "        for idx, tree in enumerate(self.trees):\n",
    "            features = self.features_indices[idx]\n",
    "            preds[:, idx] = tree.predict(X[:, features])\n",
    "\n",
    "        # Average over all trees\n",
    "        return np.mean(preds, axis=1)\n"
   ]
  },
  {
   "cell_type": "code",
   "execution_count": 174,
   "id": "4670ab0d-052c-488a-a235-996ab27f4ad9",
   "metadata": {},
   "outputs": [
    {
     "name": "stderr",
     "output_type": "stream",
     "text": [
      "Training Trees: 100%|████████████████████████████████████████████████████████████████| 100/100 [00:04<00:00, 24.50it/s]\n"
     ]
    },
    {
     "name": "stdout",
     "output_type": "stream",
     "text": [
      "Custom Test R² Score(100 trees): 0.33677255446890275\n",
      "Custom Train R² Score: 0.7340076620615932\n",
      "RMSE: 1421.7503992973961\n"
     ]
    }
   ],
   "source": [
    "rfr = BetterRandomForestRegressor(\n",
    "    n_estimators=100, \n",
    "    max_features='sqrt', \n",
    "    max_depth=None,            # you can control tree depth!\n",
    "    random_state=2529\n",
    ")\n",
    "\n",
    "rfr.fit(X_train.values, y_train.values)\n",
    "y_pred = rfr.predict(X_test.values)\n",
    "\n",
    "from sklearn.metrics import r2_score\n",
    "r2 = r2_score(y_test, y_pred)\n",
    "print(\"Custom Test R² Score(100 trees):\", r2)\n",
    "y_train_pred = rfr.predict(X_train.values)\n",
    "r2_train = r2_score(y_train, y_train_pred)\n",
    "print(\"Custom Train R² Score:\", r2_train)\n",
    "rmse = np.sqrt(mean_squared_error(y_test, y_pred))\n",
    "print(f\"RMSE: {rmse}\")"
   ]
  },
  {
   "cell_type": "code",
   "execution_count": 176,
   "id": "a8103757-1f84-464c-8950-795cb24841eb",
   "metadata": {},
   "outputs": [
    {
     "name": "stdout",
     "output_type": "stream",
     "text": [
      "Row 0: Features = [16.2 0.016827121576795306 96.9726 True False False False False True False False False False False False False False False False False True True False True False False 23 1.6317697298179406 1570.9561199999998], Predicted = 1511.52, Actual = 1076.60\n",
      "Row 1: Features = [17.1 0.039464126106121385 165.0842 False False False False False False False False False True False False False False False False False False False True True False False 38 6.5149036869281645 2822.9398200000005], Predicted = 2233.48, Actual = 2320.98\n",
      "Row 2: Features = [13.85 0.05827172459394006 233.83 True False True False False False False False False False False False False False False False False True True False True False False 18 13.625677361801005 3238.5455], Predicted = 2566.66, Actual = 2796.36\n",
      "Row 3: Features = [12.857645184135976 0.09572007403329731 121.373 False False False False False False False False True False False False False False False False False True False False False False False 40 11.617832545643395 1560.5709689341359], Predicted = 1027.02, Actual = 369.52\n",
      "Row 4: Features = [17.6 0.07926063341324728 110.9202 True False False False False False False False False False True False False False False False False True True False True False False 23 8.791605310324071 1952.19552], Predicted = 1921.23, Actual = 1687.80\n"
     ]
    }
   ],
   "source": [
    "sample_indices = [0, 1, 2, 3, 4]  # Or any indices you're interested in\n",
    "X_sample = X_train.values[sample_indices]\n",
    "y_actual = y_train.values[sample_indices]\n",
    "y_sample_pred = rfr.predict(X_sample)\n",
    "\n",
    "# For each sample, print a compact representation\n",
    "for i, idx in enumerate(sample_indices):\n",
    "    features_str = ' '.join(map(str, X_sample[i]))\n",
    "    print(f\"Row {i}: Features = [{features_str}], Predicted = {y_sample_pred[i]:.2f}, Actual = {y_actual[i]:.2f}\")"
   ]
  },
  {
   "cell_type": "code",
   "execution_count": 178,
   "id": "590fbaaa-d3e0-4496-bc31-8b404b4fd286",
   "metadata": {},
   "outputs": [
    {
     "name": "stdout",
     "output_type": "stream",
     "text": [
      "<class 'pandas.core.frame.DataFrame'>\n",
      "RangeIndex: 8523 entries, 0 to 8522\n",
      "Data columns (total 30 columns):\n",
      " #   Column                             Non-Null Count  Dtype  \n",
      "---  ------                             --------------  -----  \n",
      " 0   Weight                             8523 non-null   float64\n",
      " 1   ProductVisibility                  8523 non-null   float64\n",
      " 2   MRP                                8523 non-null   float64\n",
      " 3   OutletSales                        8523 non-null   float64\n",
      " 4   FatContent_Regular                 8523 non-null   bool   \n",
      " 5   ProductType_Breads                 8523 non-null   bool   \n",
      " 6   ProductType_Breakfast              8523 non-null   bool   \n",
      " 7   ProductType_Canned                 8523 non-null   bool   \n",
      " 8   ProductType_Dairy                  8523 non-null   bool   \n",
      " 9   ProductType_Frozen Foods           8523 non-null   bool   \n",
      " 10  ProductType_Fruits and Vegetables  8523 non-null   bool   \n",
      " 11  ProductType_Hard Drinks            8523 non-null   bool   \n",
      " 12  ProductType_Health and Hygiene     8523 non-null   bool   \n",
      " 13  ProductType_Household              8523 non-null   bool   \n",
      " 14  ProductType_Meat                   8523 non-null   bool   \n",
      " 15  ProductType_Others                 8523 non-null   bool   \n",
      " 16  ProductType_Seafood                8523 non-null   bool   \n",
      " 17  ProductType_Snack Foods            8523 non-null   bool   \n",
      " 18  ProductType_Soft Drinks            8523 non-null   bool   \n",
      " 19  ProductType_Starchy Foods          8523 non-null   bool   \n",
      " 20  OutletSize_Medium                  8523 non-null   bool   \n",
      " 21  OutletSize_Small                   8523 non-null   bool   \n",
      " 22  LocationType_Tier 2                8523 non-null   bool   \n",
      " 23  LocationType_Tier 3                8523 non-null   bool   \n",
      " 24  OutletType_Supermarket Type1       8523 non-null   bool   \n",
      " 25  OutletType_Supermarket Type2       8523 non-null   bool   \n",
      " 26  OutletType_Supermarket Type3       8523 non-null   bool   \n",
      " 27  OutletAge                          8523 non-null   int64  \n",
      " 28  MRP_Visibility                     8523 non-null   float64\n",
      " 29  Weight_MRP                         8523 non-null   float64\n",
      "dtypes: bool(23), float64(6), int64(1)\n",
      "memory usage: 657.7 KB\n"
     ]
    }
   ],
   "source": [
    "df.info()"
   ]
  },
  {
   "cell_type": "code",
   "execution_count": 80,
   "id": "93fe5467-e8a9-41f8-920d-cbf470825cd5",
   "metadata": {},
   "outputs": [
    {
     "name": "stdout",
     "output_type": "stream",
     "text": [
      "Sklearn Train R² Score: 0.9390334505745338\n",
      "Sklearn Test R² Score: 0.6012087622883954\n",
      "Sklearn Test RMSE: 1102.465271347717\n"
     ]
    }
   ],
   "source": [
    "# 1. Import libraries\n",
    "from sklearn.ensemble import RandomForestRegressor\n",
    "from sklearn.metrics import mean_squared_error, r2_score\n",
    "import numpy as np\n",
    "\n",
    "# 2. Train sklearn RandomForestRegressor\n",
    "rfr_sklearn = RandomForestRegressor(\n",
    "    n_estimators=100,      # Same as your custom\n",
    "    max_features='sqrt',   # Same as your custom\n",
    "    max_depth=None,        \n",
    "    random_state=2529\n",
    ")\n",
    "\n",
    "rfr_sklearn.fit(X_train, y_train)\n",
    "\n",
    "# 3. Make predictions\n",
    "y_pred_train = rfr_sklearn.predict(X_train)\n",
    "y_pred_test = rfr_sklearn.predict(X_test)\n",
    "\n",
    "# 4. Evaluate (R2 Score and RMSE)\n",
    "r2_train = r2_score(y_train, y_pred_train)\n",
    "r2_test = r2_score(y_test, y_pred_test)\n",
    "\n",
    "rmse_train = np.sqrt(mean_squared_error(y_train, y_pred_train))\n",
    "rmse_test = np.sqrt(mean_squared_error(y_test, y_pred_test))\n",
    "\n",
    "# 5. Print results\n",
    "print(f\"Sklearn Test R² Score: {r2_test}\")\n",
    "print(f\"Sklearn Test RMSE: {rmse_test}\")\n"
   ]
  },
  {
   "cell_type": "code",
   "execution_count": 163,
   "id": "e3aa459d-c598-4b72-b1f8-98b98ff43854",
   "metadata": {},
   "outputs": [],
   "source": [
    "#### all of the basic implementation that needs to be done, is here now, the major diff between scikit learn and the custom function\n",
    "##### is because each split in scikit learn is done randomly,but in the custom fucntion\n",
    "##### the features are randomized once per tree, so the randomness is in the custom regressor is not as much as in the scikit learn implementation"
   ]
  },
  {
   "cell_type": "code",
   "execution_count": 182,
   "id": "1ce30c20-f6b9-4900-9326-6e39242e2e10",
   "metadata": {},
   "outputs": [
    {
     "name": "stdout",
     "output_type": "stream",
     "text": [
      "Features = [17.6 0.07926063341324728 110.9202 1.0 0.0 0.0 0.0 0.0 0.0 0.0 0.0 0.0 0.0 1.0 0.0 0.0 0.0 0.0 0.0 0.0 1.0 1.0 0.0 1.0 0.0 0.0 23.0 8.791605310324071 1952.19552], Predicted = 1921.23\n"
     ]
    }
   ],
   "source": [
    "import numpy as np\n",
    "\n",
    "# New feature vector\n",
    "features = np.array([\n",
    "    17.6, 0.07926063341324728, 110.9202, True, False, False, False, False, False, False, False, False, False,\n",
    "    True, False, False, False, False, False, False, True, True, False, True, False, False, 23, 8.791605310324071, 1952.19552\n",
    "]).reshape(1, -1)  # Reshape to (1, 29)\n",
    "\n",
    "# Predict\n",
    "predicted_value = rfr.predict(features)\n",
    "\n",
    "# Print nicely\n",
    "features_str = ' '.join(map(str, features.flatten()))\n",
    "print(f\"Features = [{features_str}], Predicted = {predicted_value[0]:.2f}\")\n",
    "\n"
   ]
  },
  {
   "cell_type": "code",
   "execution_count": null,
   "id": "7ab652e5-de62-4b4c-9fe2-1104a34c605a",
   "metadata": {},
   "outputs": [],
   "source": []
  },
  {
   "cell_type": "code",
   "execution_count": null,
   "id": "99112380-9ba8-481a-81d4-a341dbb3ddf6",
   "metadata": {},
   "outputs": [],
   "source": []
  }
 ],
 "metadata": {
  "kernelspec": {
   "display_name": "Python 3 (ipykernel)",
   "language": "python",
   "name": "python3"
  },
  "language_info": {
   "codemirror_mode": {
    "name": "ipython",
    "version": 3
   },
   "file_extension": ".py",
   "mimetype": "text/x-python",
   "name": "python",
   "nbconvert_exporter": "python",
   "pygments_lexer": "ipython3",
   "version": "3.12.7"
  }
 },
 "nbformat": 4,
 "nbformat_minor": 5
}
