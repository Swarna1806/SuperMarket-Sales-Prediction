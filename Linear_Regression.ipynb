{
  "nbformat": 4,
  "nbformat_minor": 0,
  "metadata": {
    "colab": {
      "provenance": []
    },
    "kernelspec": {
      "name": "python3",
      "display_name": "Python 3"
    },
    "language_info": {
      "name": "python"
    }
  },
  "cells": [
    {
      "cell_type": "code",
      "execution_count": null,
      "metadata": {
        "id": "aLmhk2W0E4li"
      },
      "outputs": [],
      "source": [
        "import numpy as np\n",
        "import pandas as pd\n",
        "import seaborn as sns\n",
        "from sklearn.preprocessing import LabelEncoder\n",
        "from sklearn.model_selection import train_test_split\n",
        "from sklearn.metrics import mean_squared_error, r2_score\n",
        "import matplotlib.pyplot as plt\n",
        "from sklearn import metrics"
      ]
    },
    {
      "cell_type": "code",
      "source": [
        "df = pd.read_csv('/content/Train-Set.csv')"
      ],
      "metadata": {
        "id": "5ZbuRbzOGOTI"
      },
      "execution_count": null,
      "outputs": []
    },
    {
      "cell_type": "markdown",
      "source": [
        "# inspecting the data"
      ],
      "metadata": {
        "id": "AzJMRWilGRx6"
      }
    },
    {
      "cell_type": "code",
      "source": [
        "print(df.head())"
      ],
      "metadata": {
        "colab": {
          "base_uri": "https://localhost:8080/"
        },
        "id": "G5hcekv1GUEl",
        "outputId": "c392d0a3-9bab-4ef0-a4f9-e336a95a0623"
      },
      "execution_count": null,
      "outputs": [
        {
          "output_type": "stream",
          "name": "stdout",
          "text": [
            "  ProductID  Weight FatContent  ProductVisibility            ProductType  \\\n",
            "0     FDA15    9.30    Low Fat           0.016047                  Dairy   \n",
            "1     DRC01    5.92    Regular           0.019278            Soft Drinks   \n",
            "2     FDN15   17.50    Low Fat           0.016760                   Meat   \n",
            "3     FDX07   19.20    Regular           0.000000  Fruits and Vegetables   \n",
            "4     NCD19    8.93    Low Fat           0.000000              Household   \n",
            "\n",
            "        MRP OutletID  EstablishmentYear OutletSize LocationType  \\\n",
            "0  249.8092   OUT049               1999     Medium       Tier 1   \n",
            "1   48.2692   OUT018               2009     Medium       Tier 3   \n",
            "2  141.6180   OUT049               1999     Medium       Tier 1   \n",
            "3  182.0950   OUT010               1998        NaN       Tier 3   \n",
            "4   53.8614   OUT013               1987       High       Tier 3   \n",
            "\n",
            "          OutletType  OutletSales  \n",
            "0  Supermarket Type1    3735.1380  \n",
            "1  Supermarket Type2     443.4228  \n",
            "2  Supermarket Type1    2097.2700  \n",
            "3      Grocery Store     732.3800  \n",
            "4  Supermarket Type1     994.7052  \n"
          ]
        }
      ]
    },
    {
      "cell_type": "code",
      "source": [
        "print(df.info())\n",
        "print(df.describe())\n",
        "print(df.isnull().sum())"
      ],
      "metadata": {
        "colab": {
          "base_uri": "https://localhost:8080/"
        },
        "id": "rz5ttUJeGWNv",
        "outputId": "020537fa-ea8f-4aed-ef87-0bc182adccce"
      },
      "execution_count": null,
      "outputs": [
        {
          "output_type": "stream",
          "name": "stdout",
          "text": [
            "<class 'pandas.core.frame.DataFrame'>\n",
            "RangeIndex: 8523 entries, 0 to 8522\n",
            "Data columns (total 12 columns):\n",
            " #   Column             Non-Null Count  Dtype  \n",
            "---  ------             --------------  -----  \n",
            " 0   ProductID          8523 non-null   object \n",
            " 1   Weight             7060 non-null   float64\n",
            " 2   FatContent         8523 non-null   object \n",
            " 3   ProductVisibility  8523 non-null   float64\n",
            " 4   ProductType        8523 non-null   object \n",
            " 5   MRP                8523 non-null   float64\n",
            " 6   OutletID           8523 non-null   object \n",
            " 7   EstablishmentYear  8523 non-null   int64  \n",
            " 8   OutletSize         6113 non-null   object \n",
            " 9   LocationType       8523 non-null   object \n",
            " 10  OutletType         8523 non-null   object \n",
            " 11  OutletSales        8523 non-null   float64\n",
            "dtypes: float64(4), int64(1), object(7)\n",
            "memory usage: 799.2+ KB\n",
            "None\n",
            "            Weight  ProductVisibility          MRP  EstablishmentYear  \\\n",
            "count  7060.000000        8523.000000  8523.000000        8523.000000   \n",
            "mean     12.857645           0.066132   140.992782        1997.831867   \n",
            "std       4.643456           0.051598    62.275067           8.371760   \n",
            "min       4.555000           0.000000    31.290000        1985.000000   \n",
            "25%       8.773750           0.026989    93.826500        1987.000000   \n",
            "50%      12.600000           0.053931   143.012800        1999.000000   \n",
            "75%      16.850000           0.094585   185.643700        2004.000000   \n",
            "max      21.350000           0.328391   266.888400        2009.000000   \n",
            "\n",
            "        OutletSales  \n",
            "count   8523.000000  \n",
            "mean    2181.288914  \n",
            "std     1706.499616  \n",
            "min       33.290000  \n",
            "25%      834.247400  \n",
            "50%     1794.331000  \n",
            "75%     3101.296400  \n",
            "max    13086.964800  \n",
            "ProductID               0\n",
            "Weight               1463\n",
            "FatContent              0\n",
            "ProductVisibility       0\n",
            "ProductType             0\n",
            "MRP                     0\n",
            "OutletID                0\n",
            "EstablishmentYear       0\n",
            "OutletSize           2410\n",
            "LocationType            0\n",
            "OutletType              0\n",
            "OutletSales             0\n",
            "dtype: int64\n"
          ]
        }
      ]
    },
    {
      "cell_type": "markdown",
      "source": [
        "# dropping irrelevant columns"
      ],
      "metadata": {
        "id": "Tv8esrtUGZA_"
      }
    },
    {
      "cell_type": "markdown",
      "source": [
        "# not considering ProductID, and **OutletID**"
      ],
      "metadata": {
        "id": "E3TkbOVEGZvO"
      }
    },
    {
      "cell_type": "code",
      "source": [
        "df.drop(['ProductID', 'OutletID'], axis=1, inplace=True)"
      ],
      "metadata": {
        "id": "Ygyl_ZLvGc8s"
      },
      "execution_count": null,
      "outputs": []
    },
    {
      "cell_type": "markdown",
      "source": [
        "#filling missing values"
      ],
      "metadata": {
        "id": "-tF0mZ9PGd9F"
      }
    },
    {
      "cell_type": "markdown",
      "source": [
        "# for [WEIGHT]"
      ],
      "metadata": {
        "id": "uhkCyc3MGg3B"
      }
    },
    {
      "cell_type": "code",
      "source": [
        "print(df['Weight'].skew())"
      ],
      "metadata": {
        "colab": {
          "base_uri": "https://localhost:8080/"
        },
        "id": "zM91yC0WGjgr",
        "outputId": "d6bf1b95-f5ed-4dd0-f1f8-908ae4470e7d"
      },
      "execution_count": null,
      "outputs": [
        {
          "output_type": "stream",
          "name": "stdout",
          "text": [
            "0.0824262091221237\n"
          ]
        }
      ]
    },
    {
      "cell_type": "markdown",
      "source": [
        "#approximately symmetric\n",
        "#finding if there are any outliers"
      ],
      "metadata": {
        "id": "yMSBMpZtGoni"
      }
    },
    {
      "cell_type": "code",
      "source": [
        "sns.boxplot(x=df['Weight'])\n",
        "plt.show()"
      ],
      "metadata": {
        "colab": {
          "base_uri": "https://localhost:8080/",
          "height": 449
        },
        "id": "IRESJNxfGqlu",
        "outputId": "f50c1c3c-a83e-452e-be1b-d8b501b1b28d"
      },
      "execution_count": null,
      "outputs": [
        {
          "output_type": "display_data",
          "data": {
            "text/plain": [
              "<Figure size 640x480 with 1 Axes>"
            ],
            "image/png": "[encoded data removed]"
          },
          "metadata": {}
        }
      ]
    },
    {
      "cell_type": "code",
      "source": [
        "df['Weight'] = df['Weight'].fillna(df['Weight'].mean())"
      ],
      "metadata": {
        "id": "EV-sc3qIG3bH"
      },
      "execution_count": null,
      "outputs": []
    },
    {
      "cell_type": "markdown",
      "source": [
        "#for [OutletSize]"
      ],
      "metadata": {
        "id": "cEMHwG9_G57q"
      }
    },
    {
      "cell_type": "markdown",
      "source": [
        "# filling missing values in OuletSize based on the OutletType"
      ],
      "metadata": {
        "id": "quMHLVmiG8cp"
      }
    },
    {
      "cell_type": "code",
      "source": [
        "mode_of_Outlet_size = df.pivot_table(values='OutletSize', columns='OutletType', aggfunc=lambda x: x.mode()[0])\n",
        "print(mode_of_Outlet_size)"
      ],
      "metadata": {
        "colab": {
          "base_uri": "https://localhost:8080/"
        },
        "id": "EODWBUPzG-uf",
        "outputId": "cfc8580d-4ca3-4ea4-bc07-8af88c6869d6"
      },
      "execution_count": null,
      "outputs": [
        {
          "output_type": "stream",
          "name": "stdout",
          "text": [
            "OutletType Grocery Store Supermarket Type1 Supermarket Type2 Supermarket Type3\n",
            "OutletSize         Small             Small            Medium            Medium\n"
          ]
        }
      ]
    },
    {
      "cell_type": "code",
      "source": [
        "miss_values = df['OutletSize'].isnull()\n",
        "df.loc[miss_values, 'OutletSize'] = df.loc[miss_values, 'OutletType'].apply(lambda x: mode_of_Outlet_size[x])"
      ],
      "metadata": {
        "id": "fbeQxVPQHA6M"
      },
      "execution_count": null,
      "outputs": []
    },
    {
      "cell_type": "code",
      "source": [
        "df.isnull().sum()"
      ],
      "metadata": {
        "colab": {
          "base_uri": "https://localhost:8080/",
          "height": 398
        },
        "id": "IhEd-yi5HCsu",
        "outputId": "b5ed3f60-abb2-45e1-e570-dec8caf4b828"
      },
      "execution_count": null,
      "outputs": [
        {
          "output_type": "execute_result",
          "data": {
            "text/plain": [
              "Weight               0\n",
              "FatContent           0\n",
              "ProductVisibility    0\n",
              "ProductType          0\n",
              "MRP                  0\n",
              "EstablishmentYear    0\n",
              "OutletSize           0\n",
              "LocationType         0\n",
              "OutletType           0\n",
              "OutletSales          0\n",
              "dtype: int64"
            ],
            "text/html": [
              "<div>\n",
              "<style scoped>\n",
              "    .dataframe tbody tr th:only-of-type {\n",
              "        vertical-align: middle;\n",
              "    }\n",
              "\n",
              "    .dataframe tbody tr th {\n",
              "        vertical-align: top;\n",
              "    }\n",
              "\n",
              "    .dataframe thead th {\n",
              "        text-align: right;\n",
              "    }\n",
              "</style>\n",
              "<table border=\"1\" class=\"dataframe\">\n",
              "  <thead>\n",
              "    <tr style=\"text-align: right;\">\n",
              "      <th></th>\n",
              "      <th>0</th>\n",
              "    </tr>\n",
              "  </thead>\n",
              "  <tbody>\n",
              "    <tr>\n",
              "      <th>Weight</th>\n",
              "      <td>0</td>\n",
              "    </tr>\n",
              "    <tr>\n",
              "      <th>FatContent</th>\n",
              "      <td>0</td>\n",
              "    </tr>\n",
              "    <tr>\n",
              "      <th>ProductVisibility</th>\n",
              "      <td>0</td>\n",
              "    </tr>\n",
              "    <tr>\n",
              "      <th>ProductType</th>\n",
              "      <td>0</td>\n",
              "    </tr>\n",
              "    <tr>\n",
              "      <th>MRP</th>\n",
              "      <td>0</td>\n",
              "    </tr>\n",
              "    <tr>\n",
              "      <th>EstablishmentYear</th>\n",
              "      <td>0</td>\n",
              "    </tr>\n",
              "    <tr>\n",
              "      <th>OutletSize</th>\n",
              "      <td>0</td>\n",
              "    </tr>\n",
              "    <tr>\n",
              "      <th>LocationType</th>\n",
              "      <td>0</td>\n",
              "    </tr>\n",
              "    <tr>\n",
              "      <th>OutletType</th>\n",
              "      <td>0</td>\n",
              "    </tr>\n",
              "    <tr>\n",
              "      <th>OutletSales</th>\n",
              "      <td>0</td>\n",
              "    </tr>\n",
              "  </tbody>\n",
              "</table>\n",
              "</div><br><label><b>dtype:</b> int64</label>"
            ]
          },
          "metadata": {},
          "execution_count": 67
        }
      ]
    },
    {
      "cell_type": "markdown",
      "source": [
        "### no missing values"
      ],
      "metadata": {
        "id": "JhtDadSUHFii"
      }
    },
    {
      "cell_type": "markdown",
      "source": [
        "### CHECKING FOR UNIQUE VALUES IN CATEGORICAL COLUMNS"
      ],
      "metadata": {
        "id": "ZU_EbvU5HIOd"
      }
    },
    {
      "cell_type": "code",
      "source": [
        "categorical_cols = ['FatContent', 'ProductType', 'OutletSize', 'LocationType', 'OutletType']\n",
        "\n",
        "for col in categorical_cols:\n",
        "    print(f\"{col} unique values:\")\n",
        "    print(df[col].unique())\n",
        "    print(\"-\" * 40)"
      ],
      "metadata": {
        "colab": {
          "base_uri": "https://localhost:8080/"
        },
        "id": "jHjPczTkHKoE",
        "outputId": "1753e9b0-bc5d-47fc-fe12-29e11e2f1ec9"
      },
      "execution_count": null,
      "outputs": [
        {
          "output_type": "stream",
          "name": "stdout",
          "text": [
            "FatContent unique values:\n",
            "['Low Fat' 'Regular' 'low fat' 'LF' 'reg']\n",
            "----------------------------------------\n",
            "ProductType unique values:\n",
            "['Dairy' 'Soft Drinks' 'Meat' 'Fruits and Vegetables' 'Household'\n",
            " 'Baking Goods' 'Snack Foods' 'Frozen Foods' 'Breakfast'\n",
            " 'Health and Hygiene' 'Hard Drinks' 'Canned' 'Breads' 'Starchy Foods'\n",
            " 'Others' 'Seafood']\n",
            "----------------------------------------\n",
            "OutletSize unique values:\n",
            "['Medium' 'Small' 'High']\n",
            "----------------------------------------\n",
            "LocationType unique values:\n",
            "['Tier 1' 'Tier 3' 'Tier 2']\n",
            "----------------------------------------\n",
            "OutletType unique values:\n",
            "['Supermarket Type1' 'Supermarket Type2' 'Grocery Store'\n",
            " 'Supermarket Type3']\n",
            "----------------------------------------\n"
          ]
        }
      ]
    },
    {
      "cell_type": "code",
      "source": [
        "df['FatContent'] = df['FatContent'].replace({\n",
        "    'low fat': 'Low Fat',\n",
        "    'LF': 'Low Fat',\n",
        "    'reg': 'Regular'\n",
        "})\n"
      ],
      "metadata": {
        "id": "n3PWX3IGHMgX"
      },
      "execution_count": null,
      "outputs": []
    },
    {
      "cell_type": "code",
      "source": [
        "print(df['FatContent'].unique())"
      ],
      "metadata": {
        "colab": {
          "base_uri": "https://localhost:8080/"
        },
        "id": "8L5v5vk6HOoC",
        "outputId": "16981080-640a-4d4a-b398-f805ce95db20"
      },
      "execution_count": null,
      "outputs": [
        {
          "output_type": "stream",
          "name": "stdout",
          "text": [
            "['Low Fat' 'Regular']\n"
          ]
        }
      ]
    },
    {
      "cell_type": "markdown",
      "source": [
        "### LABEL ENCODING"
      ],
      "metadata": {
        "id": "PgK-vaSzHQ9o"
      }
    },
    {
      "cell_type": "code",
      "source": [
        "df = pd.get_dummies(df, columns=[\n",
        "    'FatContent', 'ProductType', 'OutletSize',\n",
        "    'LocationType', 'OutletType'\n",
        "], drop_first=True)"
      ],
      "metadata": {
        "id": "5aF1NiLzHSmu"
      },
      "execution_count": null,
      "outputs": []
    },
    {
      "cell_type": "code",
      "source": [
        "df.info()"
      ],
      "metadata": {
        "colab": {
          "base_uri": "https://localhost:8080/"
        },
        "id": "jNbaz0O5HUsI",
        "outputId": "6bfd8182-445f-4bbb-cb27-77174d5070bd"
      },
      "execution_count": null,
      "outputs": [
        {
          "output_type": "stream",
          "name": "stdout",
          "text": [
            "<class 'pandas.core.frame.DataFrame'>\n",
            "RangeIndex: 8523 entries, 0 to 8522\n",
            "Data columns (total 28 columns):\n",
            " #   Column                             Non-Null Count  Dtype  \n",
            "---  ------                             --------------  -----  \n",
            " 0   Weight                             8523 non-null   float64\n",
            " 1   ProductVisibility                  8523 non-null   float64\n",
            " 2   MRP                                8523 non-null   float64\n",
            " 3   EstablishmentYear                  8523 non-null   int64  \n",
            " 4   OutletSales                        8523 non-null   float64\n",
            " 5   FatContent_Regular                 8523 non-null   bool   \n",
            " 6   ProductType_Breads                 8523 non-null   bool   \n",
            " 7   ProductType_Breakfast              8523 non-null   bool   \n",
            " 8   ProductType_Canned                 8523 non-null   bool   \n",
            " 9   ProductType_Dairy                  8523 non-null   bool   \n",
            " 10  ProductType_Frozen Foods           8523 non-null   bool   \n",
            " 11  ProductType_Fruits and Vegetables  8523 non-null   bool   \n",
            " 12  ProductType_Hard Drinks            8523 non-null   bool   \n",
            " 13  ProductType_Health and Hygiene     8523 non-null   bool   \n",
            " 14  ProductType_Household              8523 non-null   bool   \n",
            " 15  ProductType_Meat                   8523 non-null   bool   \n",
            " 16  ProductType_Others                 8523 non-null   bool   \n",
            " 17  ProductType_Seafood                8523 non-null   bool   \n",
            " 18  ProductType_Snack Foods            8523 non-null   bool   \n",
            " 19  ProductType_Soft Drinks            8523 non-null   bool   \n",
            " 20  ProductType_Starchy Foods          8523 non-null   bool   \n",
            " 21  OutletSize_Medium                  8523 non-null   bool   \n",
            " 22  OutletSize_Small                   8523 non-null   bool   \n",
            " 23  LocationType_Tier 2                8523 non-null   bool   \n",
            " 24  LocationType_Tier 3                8523 non-null   bool   \n",
            " 25  OutletType_Supermarket Type1       8523 non-null   bool   \n",
            " 26  OutletType_Supermarket Type2       8523 non-null   bool   \n",
            " 27  OutletType_Supermarket Type3       8523 non-null   bool   \n",
            "dtypes: bool(23), float64(4), int64(1)\n",
            "memory usage: 524.5 KB\n"
          ]
        }
      ]
    },
    {
      "cell_type": "markdown",
      "source": [
        "## adding Outlet_age and dropping Establishment Year"
      ],
      "metadata": {
        "id": "pcT_Lrw2HYaa"
      }
    },
    {
      "cell_type": "code",
      "source": [
        "df['OutletAge'] = 2025 - df['EstablishmentYear']\n",
        "df.drop('EstablishmentYear', axis=1, inplace=True)"
      ],
      "metadata": {
        "id": "1bZsQPPPHaA4"
      },
      "execution_count": null,
      "outputs": []
    },
    {
      "cell_type": "code",
      "source": [
        "X = df.drop(columns='OutletSales', axis=1).values\n",
        "Y = df['OutletSales'].values"
      ],
      "metadata": {
        "id": "kOH1_yZYHbvI"
      },
      "execution_count": null,
      "outputs": []
    },
    {
      "cell_type": "code",
      "source": [
        "X_train, X_test, Y_train, Y_test = train_test_split(X, Y, test_size=0.2, random_state=42)"
      ],
      "metadata": {
        "id": "UbhIPi_JHdhy"
      },
      "execution_count": null,
      "outputs": []
    },
    {
      "cell_type": "code",
      "source": [
        "print(X.shape, X_train.shape, X_test.shape)"
      ],
      "metadata": {
        "colab": {
          "base_uri": "https://localhost:8080/"
        },
        "id": "dwkBSK57HfT3",
        "outputId": "65b1c10f-131f-4edc-a505-e00d252d91da"
      },
      "execution_count": null,
      "outputs": [
        {
          "output_type": "stream",
          "name": "stdout",
          "text": [
            "(8523, 27) (6818, 27) (1705, 27)\n"
          ]
        }
      ]
    },
    {
      "cell_type": "code",
      "source": [
        "# Normalize (important for gradient descent)\n",
        "\n",
        "# Convert the entire X_train and X_test arrays to float64 before calculating mean and std\n",
        "X_train = X_train.astype(np.float64)\n",
        "X_test = X_test.astype(np.float64)\n",
        "\n",
        "x_mean = X_train.mean(axis=0)\n",
        "x_std = X_train.std(axis=0)\n",
        "\n",
        "# Check if any element in x_std is zero and replace with a small value to avoid division by zero\n",
        "x_std[x_std == 0] = 1e-10  # Replace 0 with a small positive value\n",
        "\n",
        "X_train = (X_train - x_mean) / x_std\n",
        "X_test = (X_test - x_mean) / x_std"
      ],
      "metadata": {
        "id": "wai2Zhl1Hg_q"
      },
      "execution_count": null,
      "outputs": []
    },
    {
      "cell_type": "code",
      "source": [
        "# Add bias term manually\n",
        "X_train = np.c_[np.ones(X_train.shape[0]), X_train]\n",
        "X_test = np.c_[np.ones(X_test.shape[0]), X_test]"
      ],
      "metadata": {
        "id": "3g-4mDsrHjBI"
      },
      "execution_count": null,
      "outputs": []
    },
    {
      "cell_type": "markdown",
      "source": [
        "# Linear Regression"
      ],
      "metadata": {
        "id": "pt0rG_9-HjvP"
      }
    },
    {
      "cell_type": "code",
      "source": [
        "class LinearRegressionScratch:\n",
        "    def __init__(self, learning_rate=0.01, n_iters=1000):\n",
        "        self.learning_rate = learning_rate\n",
        "        self.n_iters = n_iters\n",
        "        self.theta = None\n",
        "\n",
        "    def fit(self, X, y):\n",
        "        m, n = X.shape\n",
        "        self.theta = np.zeros(n)\n",
        "        for _ in range(self.n_iters):\n",
        "            y_pred = X.dot(self.theta)\n",
        "            error = y_pred - y\n",
        "            gradients = (2/m) * X.T.dot(error)\n",
        "            self.theta -= self.learning_rate * gradients\n",
        "\n",
        "    def predict(self, X):\n",
        "        return X.dot(self.theta)"
      ],
      "metadata": {
        "id": "wG6EK5sXHoVu"
      },
      "execution_count": null,
      "outputs": []
    },
    {
      "cell_type": "markdown",
      "source": [
        "# Train the model"
      ],
      "metadata": {
        "id": "cbKnETfqHp0j"
      }
    },
    {
      "cell_type": "code",
      "source": [
        "model = LinearRegressionScratch(learning_rate=0.001, n_iters=1000)\n",
        "model.fit(X_train, Y_train)\n"
      ],
      "metadata": {
        "id": "9jg95y4WHs7Y"
      },
      "execution_count": null,
      "outputs": []
    },
    {
      "cell_type": "code",
      "source": [
        "# 1. Extract weights from your custom model\n",
        "theta = model.theta  # Includes intercept as first element\n",
        "intercept = theta[0]\n",
        "coefficients = theta[1:]\n",
        "\n",
        "# 2. Extract actual feature names\n",
        "feature_names = df.drop('OutletSales', axis=1).columns\n",
        "\n",
        "# 3. Create DataFrame to display\n",
        "coef_df = pd.DataFrame({\n",
        "    'Feature': feature_names,\n",
        "    'Coefficient': coefficients\n",
        "})\n",
        "\n",
        "# 4. Display results\n",
        "print(\"Intercept:\", intercept)\n",
        "print(\"\\nTop Coefficients:\")\n",
        "print(coef_df.sort_values(by='Coefficient', ascending=False))\n"
      ],
      "metadata": {
        "colab": {
          "base_uri": "https://localhost:8080/"
        },
        "id": "qUbaBaKuHw2I",
        "outputId": "98cf1af4-5420-4552-e3af-7682b500ac92"
      },
      "execution_count": null,
      "outputs": [
        {
          "output_type": "stream",
          "name": "stdout",
          "text": [
            "Intercept: 1904.903823004737\n",
            "\n",
            "Top Coefficients:\n",
            "                              Feature  Coefficient\n",
            "2                                 MRP   843.926256\n",
            "25       OutletType_Supermarket Type3   445.503705\n",
            "23       OutletType_Supermarket Type1   320.339909\n",
            "21                LocationType_Tier 2   205.540651\n",
            "19                  OutletSize_Medium   197.359560\n",
            "9   ProductType_Fruits and Vegetables    25.537430\n",
            "3                  FatContent_Regular    18.663128\n",
            "15                ProductType_Seafood    16.417516\n",
            "18          ProductType_Starchy Foods    15.513494\n",
            "6                  ProductType_Canned    13.614169\n",
            "16            ProductType_Snack Foods    11.567845\n",
            "5               ProductType_Breakfast     6.920837\n",
            "12              ProductType_Household     4.395859\n",
            "22                LocationType_Tier 3     1.835461\n",
            "10            ProductType_Hard Drinks     1.370836\n",
            "4                  ProductType_Breads    -1.750705\n",
            "13                   ProductType_Meat    -1.992878\n",
            "8            ProductType_Frozen Foods    -2.181981\n",
            "0                              Weight    -5.317002\n",
            "7                   ProductType_Dairy    -8.418014\n",
            "11     ProductType_Health and Hygiene   -10.219510\n",
            "17            ProductType_Soft Drinks   -11.643606\n",
            "14                 ProductType_Others   -15.043563\n",
            "26                          OutletAge   -16.241546\n",
            "24       OutletType_Supermarket Type2   -34.717469\n",
            "1                   ProductVisibility  -120.391485\n",
            "20                   OutletSize_Small  -226.351904\n"
          ]
        }
      ]
    },
    {
      "cell_type": "code",
      "source": [
        "import matplotlib.pyplot as plt\n",
        "\n",
        "# Plot top 15 features\n",
        "top_features = coef_df.reindex(coef_df.Coefficient.abs().sort_values(ascending=False).index)[:15]\n",
        "\n",
        "plt.figure(figsize=(10, 6))\n",
        "plt.barh(top_features['Feature'][::-1], top_features['Coefficient'][::-1])\n",
        "plt.title(\"Top 15 Influential Features in Linear Regression\")\n",
        "plt.xlabel(\"Coefficient Value\")\n",
        "plt.tight_layout()\n",
        "plt.show()\n"
      ],
      "metadata": {
        "colab": {
          "base_uri": "https://localhost:8080/",
          "height": 607
        },
        "id": "cBhGTpFbH0Yn",
        "outputId": "5d063b5d-7353-413a-f466-cf57c7a1dcff"
      },
      "execution_count": null,
      "outputs": [
        {
          "output_type": "display_data",
          "data": {
            "text/plain": [
              "<Figure size 1000x600 with 1 Axes>"
            ],
            "image/png": "[encoded data removed]"
          },
          "metadata": {}
        }
      ]
    },
    {
      "cell_type": "code",
      "source": [
        "# Make predictions\n",
        "y_pred_lr = model.predict(X_test)\n",
        "\n",
        "# Print only first 10 rows with their feature values, predicted and actual sales\n",
        "for i in range(min(10, len(X_test))):\n",
        "    features = X_test[i]\n",
        "    print(f\"Row {i+1}: Features = {features}, Predicted = {y_pred_lr[i]:.2f}, Actual = {Y_test[i]:.2f}\")\n",
        "\n"
      ],
      "metadata": {
        "colab": {
          "base_uri": "https://localhost:8080/"
        },
        "id": "XH8Wi5pMIiLT",
        "outputId": "65925a1f-2f69-4cb0-868d-bf7e98ad953e"
      },
      "execution_count": null,
      "outputs": [
        {
          "output_type": "stream",
          "name": "stdout",
          "text": [
            "Row 1: Features = [ 1.          0.33571101 -0.77388703 -0.99890847 -0.74392811 -0.16931115\n",
            " -0.11302569 -0.28524375 -0.29210126  3.00195727 -0.4150703  -0.16607531\n",
            " -0.25261929 -0.34998471 -0.2237273  -0.14426191 -0.08420275 -0.4075145\n",
            " -0.23401891 -0.13832221 -0.69787026 -1.13588074 -0.69926489  1.23384867\n",
            "  0.73041993 -0.35209326 -0.35445699  1.29324011], Predicted = 1163.46, Actual = 1743.06\n",
            "Row 2: Features = [ 1.         -1.17175193  0.09797779 -1.58604822 -0.74392811 -0.16931115\n",
            " -0.11302569 -0.28524375 -0.29210126 -0.333116   -0.4150703  -0.16607531\n",
            "  3.95852582 -0.34998471 -0.2237273  -0.14426191 -0.08420275 -0.4075145\n",
            " -0.23401891 -0.13832221 -0.69787026  0.88037411 -0.69926489 -0.81047216\n",
            "  0.73041993 -0.35209326 -0.35445699  0.10206572], Predicted = 94.46, Actual = 356.87\n",
            "Row 3: Features = [ 1.          0.38304109 -0.48194218 -1.59665209  1.34421592 -0.16931115\n",
            " -0.11302569  3.50577357 -0.29210126 -0.333116   -0.4150703  -0.16607531\n",
            " -0.25261929 -0.34998471 -0.2237273  -0.14426191 -0.08420275 -0.4075145\n",
            " -0.23401891 -0.13832221  1.4329311  -1.13588074 -0.69926489 -0.81047216\n",
            "  0.73041993 -0.35209326 -0.35445699 -0.13616916], Predicted = 1161.46, Actual = 377.51\n",
            "Row 4: Features = [ 1.         -0.00562281 -0.41478037  0.5084528   1.34421592 -0.16931115\n",
            " -0.11302569 -0.28524375 -0.29210126 -0.333116   -0.4150703  -0.16607531\n",
            " -0.25261929 -0.34998471 -0.2237273  -0.14426191 -0.08420275 -0.4075145\n",
            "  4.2731589  -0.13832221  1.4329311  -1.13588074 -0.69926489  1.23384867\n",
            " -1.36907546 -0.35209326  2.82121678  1.53147499], Predicted = 3546.80, Actual = 5778.48\n",
            "Row 5: Features = [ 1.         -0.63573881 -1.04309226  0.88907931  1.34421592 -0.16931115\n",
            " -0.11302569 -0.28524375 -0.29210126 -0.333116   -0.4150703  -0.16607531\n",
            " -0.25261929 -0.34998471  4.46972723 -0.14426191 -0.08420275 -0.4075145\n",
            " -0.23401891 -0.13832221 -0.69787026  0.88037411  1.43007322 -0.81047216\n",
            "  0.73041993 -0.35209326 -0.35445699 -0.73175635], Predicted = 2841.67, Actual = 2356.93\n",
            "Row 6: Features = [ 1.         -0.80021083 -0.46953129 -1.74943289 -0.74392811 -0.16931115\n",
            " -0.11302569 -0.28524375 -0.29210126 -0.333116   -0.4150703  -0.16607531\n",
            " -0.25261929 -0.34998471 -0.2237273  -0.14426191 -0.08420275 -0.4075145\n",
            "  4.2731589  -0.13832221  1.4329311  -1.13588074 -0.69926489 -0.81047216\n",
            "  0.73041993 -0.35209326 -0.35445699 -0.13616916], Predicted = 894.26, Actual = 865.54\n",
            "Row 7: Features = [ 1.         -0.00562281  1.18102023  1.07320803 -0.74392811 -0.16931115\n",
            " -0.11302569  3.50577357 -0.29210126 -0.333116   -0.4150703  -0.16607531\n",
            " -0.25261929 -0.34998471 -0.2237273  -0.14426191 -0.08420275 -0.4075145\n",
            " -0.23401891 -0.13832221  1.4329311  -1.13588074 -0.69926489  1.23384867\n",
            " -1.36907546 -0.35209326  2.82121678  1.53147499], Predicted = 3896.41, Actual = 4613.99\n",
            "Row 8: Features = [ 1.00000000e+00 -5.63560444e-01 -1.02178652e+00  1.76304159e-03\n",
            "  1.34421592e+00 -1.69311147e-01 -1.13025691e-01 -2.85243750e-01\n",
            " -2.92101259e-01 -3.33116001e-01 -4.15070303e-01 -1.66075314e-01\n",
            " -2.52619295e-01 -3.49984712e-01 -2.23727299e-01 -1.44261910e-01\n",
            " -8.42027517e-02  2.45390040e+00 -2.34018913e-01 -1.38322212e-01\n",
            "  1.43293110e+00 -1.13588074e+00 -6.99264893e-01  1.23384867e+00\n",
            " -1.36907546e+00  2.84015657e+00 -3.54456987e-01 -1.32734355e+00], Predicted = 1801.64, Actual = 2410.86\n",
            "Row 9: Features = [ 1.          0.26471589 -0.82188345 -0.61992243 -0.74392811 -0.16931115\n",
            " -0.11302569 -0.28524375 -0.29210126 -0.333116   -0.4150703  -0.16607531\n",
            " -0.25261929 -0.34998471 -0.2237273  -0.14426191 -0.08420275 -0.4075145\n",
            " -0.23401891 -0.13832221  1.4329311  -1.13588074 -0.69926489  1.23384867\n",
            " -1.36907546  2.84015657 -0.35445699 -1.32734355], Predicted = 1176.44, Actual = 1948.13\n",
            "Row 10: Features = [ 1.         -1.0344947  -0.97074376  0.80332738 -0.74392811 -0.16931115\n",
            " -0.11302569 -0.28524375 -0.29210126 -0.333116   -0.4150703  -0.16607531\n",
            " -0.25261929  2.85726766 -0.2237273  -0.14426191 -0.08420275 -0.4075145\n",
            " -0.23401891 -0.13832221  1.4329311  -1.13588074 -0.69926489  1.23384867\n",
            " -1.36907546  2.84015657 -0.35445699 -1.32734355], Predicted = 2416.49, Actual = 1937.48\n"
          ]
        }
      ]
    },
    {
      "cell_type": "code",
      "source": [
        "# Linear Regression\n",
        "rmse_lr = np.sqrt(mean_squared_error(Y_test, y_pred_lr))\n",
        "r2_lr = r2_score(Y_test, y_pred_lr)\n"
      ],
      "metadata": {
        "id": "qjSPi0z8Ii4Y"
      },
      "execution_count": null,
      "outputs": []
    },
    {
      "cell_type": "code",
      "source": [
        "# Print results\n",
        "print(\"🔹 Linear Regression\")\n",
        "print(\"RMSE:\", rmse_lr)\n",
        "print(\"R² Score:\", r2_lr)"
      ],
      "metadata": {
        "colab": {
          "base_uri": "https://localhost:8080/"
        },
        "id": "-jhH8YW5Ipcc",
        "outputId": "62f6cc67-2c66-4102-d131-b73f8227fc9a"
      },
      "execution_count": null,
      "outputs": [
        {
          "output_type": "stream",
          "name": "stdout",
          "text": [
            "🔹 Linear Regression\n",
            "RMSE: 1161.9193607591808\n",
            "R² Score: 0.5032849634773395\n"
          ]
        }
      ]
    },
    {
      "cell_type": "code",
      "source": [
        "df.info()"
      ],
      "metadata": {
        "colab": {
          "base_uri": "https://localhost:8080/"
        },
        "id": "Hc0l6zVVU4Lk",
        "outputId": "dbf01b09-0eea-4ae7-de5f-2086c3c22624"
      },
      "execution_count": null,
      "outputs": [
        {
          "output_type": "stream",
          "name": "stdout",
          "text": [
            "<class 'pandas.core.frame.DataFrame'>\n",
            "RangeIndex: 8523 entries, 0 to 8522\n",
            "Data columns (total 28 columns):\n",
            " #   Column                             Non-Null Count  Dtype  \n",
            "---  ------                             --------------  -----  \n",
            " 0   Weight                             8523 non-null   float64\n",
            " 1   ProductVisibility                  8523 non-null   float64\n",
            " 2   MRP                                8523 non-null   float64\n",
            " 3   OutletSales                        8523 non-null   float64\n",
            " 4   FatContent_Regular                 8523 non-null   bool   \n",
            " 5   ProductType_Breads                 8523 non-null   bool   \n",
            " 6   ProductType_Breakfast              8523 non-null   bool   \n",
            " 7   ProductType_Canned                 8523 non-null   bool   \n",
            " 8   ProductType_Dairy                  8523 non-null   bool   \n",
            " 9   ProductType_Frozen Foods           8523 non-null   bool   \n",
            " 10  ProductType_Fruits and Vegetables  8523 non-null   bool   \n",
            " 11  ProductType_Hard Drinks            8523 non-null   bool   \n",
            " 12  ProductType_Health and Hygiene     8523 non-null   bool   \n",
            " 13  ProductType_Household              8523 non-null   bool   \n",
            " 14  ProductType_Meat                   8523 non-null   bool   \n",
            " 15  ProductType_Others                 8523 non-null   bool   \n",
            " 16  ProductType_Seafood                8523 non-null   bool   \n",
            " 17  ProductType_Snack Foods            8523 non-null   bool   \n",
            " 18  ProductType_Soft Drinks            8523 non-null   bool   \n",
            " 19  ProductType_Starchy Foods          8523 non-null   bool   \n",
            " 20  OutletSize_Medium                  8523 non-null   bool   \n",
            " 21  OutletSize_Small                   8523 non-null   bool   \n",
            " 22  LocationType_Tier 2                8523 non-null   bool   \n",
            " 23  LocationType_Tier 3                8523 non-null   bool   \n",
            " 24  OutletType_Supermarket Type1       8523 non-null   bool   \n",
            " 25  OutletType_Supermarket Type2       8523 non-null   bool   \n",
            " 26  OutletType_Supermarket Type3       8523 non-null   bool   \n",
            " 27  OutletAge                          8523 non-null   int64  \n",
            "dtypes: bool(23), float64(4), int64(1)\n",
            "memory usage: 524.5 KB\n"
          ]
        }
      ]
    }
  ]
}